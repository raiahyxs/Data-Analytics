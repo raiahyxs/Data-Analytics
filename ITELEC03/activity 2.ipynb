{
 "cells": [
  {
   "cell_type": "markdown",
   "id": "8b1e3093-4e9b-4fda-be2f-5662c3cfe56a",
   "metadata": {},
   "source": [
    "<h1>\n",
    "  <span style=\"color:#0d8dfc;\">ACTIVITY 2:</span>\n",
    "  <span>UK ACCIDENT DATA ANALYTICS PROJECT</span>\n",
    "</h1>\n",
    "\n",
    "<hr>"
   ]
  },
  {
   "cell_type": "markdown",
   "id": "ffabdb81-9324-41e7-883c-3a8e6655df9b",
   "metadata": {},
   "source": [
    "<h1> ANALYST: RHEALYN VASQUEZ </h1>"
   ]
  },
  {
   "cell_type": "code",
   "execution_count": 1,
   "id": "abda1197-629f-426f-ab1e-2c75bc3e583a",
   "metadata": {},
   "outputs": [],
   "source": [
    "import numpy as np\n",
    "import pandas as pd\n",
    "import matplotlib.pyplot as plt\n",
    "from scipy.stats import f_oneway\n",
    "import warnings\n",
    "warnings.filterwarnings('ignore')"
   ]
  },
  {
   "cell_type": "code",
   "execution_count": 2,
   "id": "04bffde4-a639-46cf-bac2-aacf5be3d834",
   "metadata": {},
   "outputs": [],
   "source": [
    "uk_accidents = pd.read_csv('datasets\\\\uk_accident_data.csv')"
   ]
  },
  {
   "cell_type": "code",
   "execution_count": 3,
   "id": "d86b030f-72e8-4359-b471-9cfbdd05276b",
   "metadata": {},
   "outputs": [
    {
     "data": {
      "text/html": [
       "<div>\n",
       "<style scoped>\n",
       "    .dataframe tbody tr th:only-of-type {\n",
       "        vertical-align: middle;\n",
       "    }\n",
       "\n",
       "    .dataframe tbody tr th {\n",
       "        vertical-align: top;\n",
       "    }\n",
       "\n",
       "    .dataframe thead th {\n",
       "        text-align: right;\n",
       "    }\n",
       "</style>\n",
       "<table border=\"1\" class=\"dataframe\">\n",
       "  <thead>\n",
       "    <tr style=\"text-align: right;\">\n",
       "      <th></th>\n",
       "      <th>Index</th>\n",
       "      <th>Accident_Severity</th>\n",
       "      <th>Accident Date</th>\n",
       "      <th>Latitude</th>\n",
       "      <th>Light_Conditions</th>\n",
       "      <th>District Area</th>\n",
       "      <th>Longitude</th>\n",
       "      <th>Number_of_Casualties</th>\n",
       "      <th>Number_of_Vehicles</th>\n",
       "      <th>Road_Surface_Conditions</th>\n",
       "      <th>Road_Type</th>\n",
       "      <th>Urban_or_Rural_Area</th>\n",
       "      <th>Weather_Conditions</th>\n",
       "      <th>Vehicle_Type</th>\n",
       "    </tr>\n",
       "  </thead>\n",
       "  <tbody>\n",
       "    <tr>\n",
       "      <th>0</th>\n",
       "      <td>200701BS64157</td>\n",
       "      <td>Serious</td>\n",
       "      <td>05/06/2019</td>\n",
       "      <td>51.506187</td>\n",
       "      <td>Darkness - lights lit</td>\n",
       "      <td>Kensington and Chelsea</td>\n",
       "      <td>-0.209082</td>\n",
       "      <td>1</td>\n",
       "      <td>2</td>\n",
       "      <td>Dry</td>\n",
       "      <td>Single carriageway</td>\n",
       "      <td>Urban</td>\n",
       "      <td>Fine no high winds</td>\n",
       "      <td>Car</td>\n",
       "    </tr>\n",
       "    <tr>\n",
       "      <th>1</th>\n",
       "      <td>200701BS65737</td>\n",
       "      <td>Serious</td>\n",
       "      <td>02/07/2019</td>\n",
       "      <td>51.495029</td>\n",
       "      <td>Daylight</td>\n",
       "      <td>Kensington and Chelsea</td>\n",
       "      <td>-0.173647</td>\n",
       "      <td>1</td>\n",
       "      <td>2</td>\n",
       "      <td>Wet or damp</td>\n",
       "      <td>Single carriageway</td>\n",
       "      <td>Urban</td>\n",
       "      <td>Raining no high winds</td>\n",
       "      <td>Car</td>\n",
       "    </tr>\n",
       "    <tr>\n",
       "      <th>2</th>\n",
       "      <td>200701BS66127</td>\n",
       "      <td>Serious</td>\n",
       "      <td>26/08/2019</td>\n",
       "      <td>51.517715</td>\n",
       "      <td>Darkness - lighting unknown</td>\n",
       "      <td>Kensington and Chelsea</td>\n",
       "      <td>-0.210215</td>\n",
       "      <td>1</td>\n",
       "      <td>3</td>\n",
       "      <td>Dry</td>\n",
       "      <td>NaN</td>\n",
       "      <td>Urban</td>\n",
       "      <td>NaN</td>\n",
       "      <td>Taxi/Private hire car</td>\n",
       "    </tr>\n",
       "    <tr>\n",
       "      <th>3</th>\n",
       "      <td>200701BS66128</td>\n",
       "      <td>Serious</td>\n",
       "      <td>16/08/2019</td>\n",
       "      <td>51.495478</td>\n",
       "      <td>Daylight</td>\n",
       "      <td>Kensington and Chelsea</td>\n",
       "      <td>-0.202731</td>\n",
       "      <td>1</td>\n",
       "      <td>4</td>\n",
       "      <td>Dry</td>\n",
       "      <td>Single carriageway</td>\n",
       "      <td>Urban</td>\n",
       "      <td>Fine no high winds</td>\n",
       "      <td>Bus or coach (17 or more pass seats)</td>\n",
       "    </tr>\n",
       "    <tr>\n",
       "      <th>4</th>\n",
       "      <td>200701BS66837</td>\n",
       "      <td>Slight</td>\n",
       "      <td>03/09/2019</td>\n",
       "      <td>51.488576</td>\n",
       "      <td>Darkness - lights lit</td>\n",
       "      <td>Kensington and Chelsea</td>\n",
       "      <td>-0.192487</td>\n",
       "      <td>1</td>\n",
       "      <td>2</td>\n",
       "      <td>Dry</td>\n",
       "      <td>NaN</td>\n",
       "      <td>Urban</td>\n",
       "      <td>NaN</td>\n",
       "      <td>Other vehicle</td>\n",
       "    </tr>\n",
       "  </tbody>\n",
       "</table>\n",
       "</div>"
      ],
      "text/plain": [
       "           Index Accident_Severity Accident Date   Latitude  \\\n",
       "0  200701BS64157           Serious    05/06/2019  51.506187   \n",
       "1  200701BS65737           Serious    02/07/2019  51.495029   \n",
       "2  200701BS66127           Serious    26/08/2019  51.517715   \n",
       "3  200701BS66128           Serious    16/08/2019  51.495478   \n",
       "4  200701BS66837            Slight    03/09/2019  51.488576   \n",
       "\n",
       "              Light_Conditions           District Area  Longitude  \\\n",
       "0        Darkness - lights lit  Kensington and Chelsea  -0.209082   \n",
       "1                     Daylight  Kensington and Chelsea  -0.173647   \n",
       "2  Darkness - lighting unknown  Kensington and Chelsea  -0.210215   \n",
       "3                     Daylight  Kensington and Chelsea  -0.202731   \n",
       "4        Darkness - lights lit  Kensington and Chelsea  -0.192487   \n",
       "\n",
       "   Number_of_Casualties  Number_of_Vehicles Road_Surface_Conditions  \\\n",
       "0                     1                   2                     Dry   \n",
       "1                     1                   2             Wet or damp   \n",
       "2                     1                   3                     Dry   \n",
       "3                     1                   4                     Dry   \n",
       "4                     1                   2                     Dry   \n",
       "\n",
       "            Road_Type Urban_or_Rural_Area     Weather_Conditions  \\\n",
       "0  Single carriageway               Urban     Fine no high winds   \n",
       "1  Single carriageway               Urban  Raining no high winds   \n",
       "2                 NaN               Urban                    NaN   \n",
       "3  Single carriageway               Urban     Fine no high winds   \n",
       "4                 NaN               Urban                    NaN   \n",
       "\n",
       "                           Vehicle_Type  \n",
       "0                                   Car  \n",
       "1                                   Car  \n",
       "2                 Taxi/Private hire car  \n",
       "3  Bus or coach (17 or more pass seats)  \n",
       "4                         Other vehicle  "
      ]
     },
     "execution_count": 3,
     "metadata": {},
     "output_type": "execute_result"
    }
   ],
   "source": [
    "#this shows the 5 first row\n",
    "uk_accidents.head()"
   ]
  },
  {
   "cell_type": "code",
   "execution_count": 4,
   "id": "19b23a41-165a-4f83-8b7e-b44c77b8098f",
   "metadata": {},
   "outputs": [
    {
     "name": "stdout",
     "output_type": "stream",
     "text": [
      "<class 'pandas.core.frame.DataFrame'>\n",
      "RangeIndex: 660679 entries, 0 to 660678\n",
      "Data columns (total 14 columns):\n",
      " #   Column                   Non-Null Count   Dtype  \n",
      "---  ------                   --------------   -----  \n",
      " 0   Index                    660679 non-null  object \n",
      " 1   Accident_Severity        660679 non-null  object \n",
      " 2   Accident Date            660679 non-null  object \n",
      " 3   Latitude                 660654 non-null  float64\n",
      " 4   Light_Conditions         660679 non-null  object \n",
      " 5   District Area            660679 non-null  object \n",
      " 6   Longitude                660653 non-null  float64\n",
      " 7   Number_of_Casualties     660679 non-null  int64  \n",
      " 8   Number_of_Vehicles       660679 non-null  int64  \n",
      " 9   Road_Surface_Conditions  659953 non-null  object \n",
      " 10  Road_Type                656159 non-null  object \n",
      " 11  Urban_or_Rural_Area      660664 non-null  object \n",
      " 12  Weather_Conditions       646551 non-null  object \n",
      " 13  Vehicle_Type             660679 non-null  object \n",
      "dtypes: float64(2), int64(2), object(10)\n",
      "memory usage: 70.6+ MB\n"
     ]
    }
   ],
   "source": [
    "#this shows quick summary of the DataFrame\n",
    "uk_accidents.info()"
   ]
  },
  {
   "cell_type": "code",
   "execution_count": 5,
   "id": "fb8f126c-ba7f-486a-b564-6ba90df93a22",
   "metadata": {},
   "outputs": [
    {
     "data": {
      "text/html": [
       "<div>\n",
       "<style scoped>\n",
       "    .dataframe tbody tr th:only-of-type {\n",
       "        vertical-align: middle;\n",
       "    }\n",
       "\n",
       "    .dataframe tbody tr th {\n",
       "        vertical-align: top;\n",
       "    }\n",
       "\n",
       "    .dataframe thead th {\n",
       "        text-align: right;\n",
       "    }\n",
       "</style>\n",
       "<table border=\"1\" class=\"dataframe\">\n",
       "  <thead>\n",
       "    <tr style=\"text-align: right;\">\n",
       "      <th></th>\n",
       "      <th>Latitude</th>\n",
       "      <th>Longitude</th>\n",
       "      <th>Number_of_Casualties</th>\n",
       "      <th>Number_of_Vehicles</th>\n",
       "    </tr>\n",
       "  </thead>\n",
       "  <tbody>\n",
       "    <tr>\n",
       "      <th>count</th>\n",
       "      <td>660654.000000</td>\n",
       "      <td>660653.000000</td>\n",
       "      <td>660679.000000</td>\n",
       "      <td>660679.000000</td>\n",
       "    </tr>\n",
       "    <tr>\n",
       "      <th>mean</th>\n",
       "      <td>52.553866</td>\n",
       "      <td>-1.431210</td>\n",
       "      <td>1.357040</td>\n",
       "      <td>1.831255</td>\n",
       "    </tr>\n",
       "    <tr>\n",
       "      <th>std</th>\n",
       "      <td>1.406922</td>\n",
       "      <td>1.383330</td>\n",
       "      <td>0.824847</td>\n",
       "      <td>0.715269</td>\n",
       "    </tr>\n",
       "    <tr>\n",
       "      <th>min</th>\n",
       "      <td>49.914430</td>\n",
       "      <td>-7.516225</td>\n",
       "      <td>1.000000</td>\n",
       "      <td>1.000000</td>\n",
       "    </tr>\n",
       "    <tr>\n",
       "      <th>25%</th>\n",
       "      <td>51.490690</td>\n",
       "      <td>-2.332291</td>\n",
       "      <td>1.000000</td>\n",
       "      <td>1.000000</td>\n",
       "    </tr>\n",
       "    <tr>\n",
       "      <th>50%</th>\n",
       "      <td>52.315641</td>\n",
       "      <td>-1.411667</td>\n",
       "      <td>1.000000</td>\n",
       "      <td>2.000000</td>\n",
       "    </tr>\n",
       "    <tr>\n",
       "      <th>75%</th>\n",
       "      <td>53.453452</td>\n",
       "      <td>-0.232869</td>\n",
       "      <td>1.000000</td>\n",
       "      <td>2.000000</td>\n",
       "    </tr>\n",
       "    <tr>\n",
       "      <th>max</th>\n",
       "      <td>60.757544</td>\n",
       "      <td>1.762010</td>\n",
       "      <td>68.000000</td>\n",
       "      <td>32.000000</td>\n",
       "    </tr>\n",
       "  </tbody>\n",
       "</table>\n",
       "</div>"
      ],
      "text/plain": [
       "            Latitude      Longitude  Number_of_Casualties  Number_of_Vehicles\n",
       "count  660654.000000  660653.000000         660679.000000       660679.000000\n",
       "mean       52.553866      -1.431210              1.357040            1.831255\n",
       "std         1.406922       1.383330              0.824847            0.715269\n",
       "min        49.914430      -7.516225              1.000000            1.000000\n",
       "25%        51.490690      -2.332291              1.000000            1.000000\n",
       "50%        52.315641      -1.411667              1.000000            2.000000\n",
       "75%        53.453452      -0.232869              1.000000            2.000000\n",
       "max        60.757544       1.762010             68.000000           32.000000"
      ]
     },
     "execution_count": 5,
     "metadata": {},
     "output_type": "execute_result"
    }
   ],
   "source": [
    "# this shows quick statistics about the data\n",
    "uk_accidents.describe()"
   ]
  },
  {
   "cell_type": "code",
   "execution_count": 6,
   "id": "b58a04fa-b5f5-4cf1-ab9d-fd52b24ee03d",
   "metadata": {},
   "outputs": [
    {
     "data": {
      "text/plain": [
       "Index                          0\n",
       "Accident_Severity              0\n",
       "Accident Date                  0\n",
       "Latitude                      25\n",
       "Light_Conditions               0\n",
       "District Area                  0\n",
       "Longitude                     26\n",
       "Number_of_Casualties           0\n",
       "Number_of_Vehicles             0\n",
       "Road_Surface_Conditions      726\n",
       "Road_Type                   4520\n",
       "Urban_or_Rural_Area           15\n",
       "Weather_Conditions         14128\n",
       "Vehicle_Type                   0\n",
       "dtype: int64"
      ]
     },
     "execution_count": 6,
     "metadata": {},
     "output_type": "execute_result"
    }
   ],
   "source": [
    "uk_accidents.isnull().sum()"
   ]
  },
  {
   "cell_type": "markdown",
   "id": "2eca8ab0-0334-4050-a558-d94f872dc9a9",
   "metadata": {},
   "source": [
    "<h1> FILLING MISSING VALUES/NULL VALUES </h1>"
   ]
  },
  {
   "cell_type": "code",
   "execution_count": 7,
   "id": "e796e426-7094-4718-ac20-4074b5c90144",
   "metadata": {},
   "outputs": [],
   "source": [
    "#mean - to handle missing values in numeric columns\n",
    "for num in ['Latitude', 'Longitude']:\n",
    "    uk_accidents[num] = uk_accidents[num].fillna(uk_accidents[num].mean())\n",
    "    \n",
    "#mode - to handle missing values in categorical columns\n",
    "for cat in ['Road_Surface_Conditions', 'Road_Type', 'Urban_or_Rural_Area', 'Weather_Conditions']:\n",
    "    uk_accidents[cat] = uk_accidents[cat].fillna(uk_accidents[cat].mode()[0])\n"
   ]
  },
  {
   "cell_type": "code",
   "execution_count": 8,
   "id": "5b875b0b-85db-4c8b-92ea-d5986b137b2a",
   "metadata": {},
   "outputs": [
    {
     "data": {
      "text/plain": [
       "Index                      0\n",
       "Accident_Severity          0\n",
       "Accident Date              0\n",
       "Latitude                   0\n",
       "Light_Conditions           0\n",
       "District Area              0\n",
       "Longitude                  0\n",
       "Number_of_Casualties       0\n",
       "Number_of_Vehicles         0\n",
       "Road_Surface_Conditions    0\n",
       "Road_Type                  0\n",
       "Urban_or_Rural_Area        0\n",
       "Weather_Conditions         0\n",
       "Vehicle_Type               0\n",
       "dtype: int64"
      ]
     },
     "execution_count": 8,
     "metadata": {},
     "output_type": "execute_result"
    }
   ],
   "source": [
    "uk_accidents.isnull().sum()"
   ]
  },
  {
   "cell_type": "code",
   "execution_count": 9,
   "id": "1af1fb70-69ca-4f47-8658-ee0fdf726631",
   "metadata": {},
   "outputs": [],
   "source": [
    "uk_accidents['Index'] = uk_accidents['Index'].astype('category')\n",
    "uk_accidents['Accident_Severity'] = uk_accidents['Accident_Severity'].astype('category')\n",
    "uk_accidents['Accident Date'] = pd.to_datetime(uk_accidents['Accident Date'], errors='coerce')\n",
    "uk_accidents['Latitude'] = uk_accidents['Latitude'].astype('float')\n",
    "uk_accidents['Longitude'] = uk_accidents['Longitude'].astype('float')\n",
    "uk_accidents['Light_Conditions'] = uk_accidents['Light_Conditions'].astype('category')\n",
    "uk_accidents['District Area'] = uk_accidents['District Area'].astype('category')\n",
    "uk_accidents['Number_of_Casualties'] = uk_accidents['Number_of_Casualties'].astype('int')\n",
    "uk_accidents['Number_of_Vehicles'] = uk_accidents['Number_of_Vehicles'].astype('int')\n",
    "uk_accidents['Road_Surface_Conditions'] = uk_accidents['Road_Surface_Conditions'].astype('category')\n",
    "uk_accidents['Road_Type'] = uk_accidents['Road_Type'].astype('category')\n",
    "uk_accidents['Urban_or_Rural_Area'] = uk_accidents['Urban_or_Rural_Area'].astype('category')\n",
    "uk_accidents['Weather_Conditions'] = uk_accidents['Weather_Conditions'].astype('category')\n",
    "uk_accidents['Vehicle_Type'] = uk_accidents['Vehicle_Type'].astype('category')"
   ]
  },
  {
   "cell_type": "code",
   "execution_count": 10,
   "id": "aa6b6389-1d97-4b6e-84fd-49b77ef1c564",
   "metadata": {},
   "outputs": [
    {
     "name": "stdout",
     "output_type": "stream",
     "text": [
      "<class 'pandas.core.frame.DataFrame'>\n",
      "RangeIndex: 660679 entries, 0 to 660678\n",
      "Data columns (total 14 columns):\n",
      " #   Column                   Non-Null Count   Dtype         \n",
      "---  ------                   --------------   -----         \n",
      " 0   Index                    660679 non-null  category      \n",
      " 1   Accident_Severity        660679 non-null  category      \n",
      " 2   Accident Date            265007 non-null  datetime64[ns]\n",
      " 3   Latitude                 660679 non-null  float64       \n",
      " 4   Light_Conditions         660679 non-null  category      \n",
      " 5   District Area            660679 non-null  category      \n",
      " 6   Longitude                660679 non-null  float64       \n",
      " 7   Number_of_Casualties     660679 non-null  int64         \n",
      " 8   Number_of_Vehicles       660679 non-null  int64         \n",
      " 9   Road_Surface_Conditions  660679 non-null  category      \n",
      " 10  Road_Type                660679 non-null  category      \n",
      " 11  Urban_or_Rural_Area      660679 non-null  category      \n",
      " 12  Weather_Conditions       660679 non-null  category      \n",
      " 13  Vehicle_Type             660679 non-null  category      \n",
      "dtypes: category(9), datetime64[ns](1), float64(2), int64(2)\n",
      "memory usage: 52.8 MB\n"
     ]
    }
   ],
   "source": [
    "uk_accidents.info()"
   ]
  },
  {
   "cell_type": "markdown",
   "id": "b347fe63-a9bd-4302-ae49-27aec0d224a0",
   "metadata": {},
   "source": [
    "<h1 style=\"color:#0d8dfc;\"> DATA ANALYSIS</h1>\n",
    "<hr>"
   ]
  },
  {
   "cell_type": "markdown",
   "id": "868f35ab-6ff5-4bf4-a767-52f1fdcd92df",
   "metadata": {},
   "source": [
    "<h1> DATA AGGREGATION</h1>"
   ]
  },
  {
   "cell_type": "markdown",
   "id": "e8f5d3d0-53f5-4ea9-b4d8-0c88df2009da",
   "metadata": {},
   "source": [
    "<h1> 1. Which district has the highest average number of casualties per accident? </h1>"
   ]
  },
  {
   "cell_type": "code",
   "execution_count": 11,
   "id": "96c8b3e3-1983-4d5e-ab1e-aee1cc0692ca",
   "metadata": {},
   "outputs": [
    {
     "data": {
      "text/plain": [
       "District Area\n",
       "Blaeu Gwent    1.693694\n",
       "Name: Number_of_Casualties, dtype: float64"
      ]
     },
     "execution_count": 11,
     "metadata": {},
     "output_type": "execute_result"
    }
   ],
   "source": [
    "highest_casualties = uk_accidents.groupby(\"District Area\")[\"Number_of_Casualties\"].mean().sort_values(ascending=False).head(1)\n",
    "highest_casualties"
   ]
  },
  {
   "cell_type": "markdown",
   "id": "81fd9d69-5b5a-4025-91dd-1943ef90db4c",
   "metadata": {},
   "source": [
    "<h1> INSIGHT 1:</h1>\n",
    "<p> This shows that the district with the highest average casualties per accident is Blaeu Gwent, where each crash injures about 1.69 people on average.</p>"
   ]
  },
  {
   "cell_type": "markdown",
   "id": "15164a00-5320-480e-b1d0-110e082ace94",
   "metadata": {},
   "source": [
    "<h1> 2. Which road type has the highest average number of vehicles involved? </h1>"
   ]
  },
  {
   "cell_type": "code",
   "execution_count": 12,
   "id": "c423a217-f941-4337-9781-9d865c0f2a87",
   "metadata": {},
   "outputs": [
    {
     "data": {
      "text/plain": [
       "Road_Type\n",
       "Dual carriageway      2.009766\n",
       "Slip road             1.917483\n",
       "Roundabout            1.901323\n",
       "Single carriageway    1.794803\n",
       "One way street        1.585441\n",
       "Name: Number_of_Vehicles, dtype: float64"
      ]
     },
     "execution_count": 12,
     "metadata": {},
     "output_type": "execute_result"
    }
   ],
   "source": [
    "uk_accidents.groupby(\"Road_Type\")[\"Number_of_Vehicles\"].mean().sort_values(ascending=False)"
   ]
  },
  {
   "cell_type": "markdown",
   "id": "f1ed8d95-d67b-4c84-9a47-dd552edb1bb5",
   "metadata": {},
   "source": [
    "<h1> INSIGHT 2: </h1>\n",
    "<p> This shows that crashes on dual carriageways usually involve the most vehicles, while one-way streets involve the fewest. </p>"
   ]
  },
  {
   "cell_type": "markdown",
   "id": "95adf997-fd60-4d72-a008-79f984132d43",
   "metadata": {},
   "source": [
    "<h1> 3. Which weather condition is linked with the highest average accident severity? </h1>"
   ]
  },
  {
   "cell_type": "code",
   "execution_count": 13,
   "id": "9b892ee2-e2e9-4267-bb94-91e7ba5fcc55",
   "metadata": {},
   "outputs": [
    {
     "data": {
      "text/plain": [
       "Weather_Conditions\n",
       "Snowing no high winds    2.897884\n",
       "Other                    2.875743\n",
       "Snowing + high winds     2.870056\n",
       "Raining no high winds    2.859918\n",
       "Raining + high winds     2.838690\n",
       "Fine no high winds       2.836081\n",
       "Fog or mist              2.816610\n",
       "Fine + high winds        2.813538\n",
       "Name: Accident_Severity, dtype: float64"
      ]
     },
     "execution_count": 13,
     "metadata": {},
     "output_type": "execute_result"
    }
   ],
   "source": [
    "uk_accidents['Accident_Severity'] = uk_accidents['Accident_Severity'].cat.codes + 1\n",
    "uk_accidents.groupby(\"Weather_Conditions\")['Accident_Severity'].mean().sort_values(ascending=False)"
   ]
  },
  {
   "cell_type": "markdown",
   "id": "5e39c9b2-bc39-4cd5-a395-41b722006b5b",
   "metadata": {},
   "source": [
    "<h1> INSIGHT 3: </h1>\n",
    "<p> This shows that the accidents during snowy conditions or unusual weather “Other” tend to be more severe on average, while fine or foggy weather sees slightly lower severity.</p>"
   ]
  },
  {
   "cell_type": "markdown",
   "id": "b1e2e8f0-7d7c-4de7-95f5-68452110a4d4",
   "metadata": {},
   "source": [
    "<h1> 4. How does the average number of casualties from accidents differ between urban and rural areas? </h1>"
   ]
  },
  {
   "cell_type": "code",
   "execution_count": 14,
   "id": "2d42b9d3-2846-4d50-ab89-b9aeda04da3e",
   "metadata": {},
   "outputs": [
    {
     "data": {
      "text/plain": [
       "Urban_or_Rural_Area\n",
       "Rural          1.479204\n",
       "Urban          1.287807\n",
       "Unallocated    1.181818\n",
       "Name: Number_of_Casualties, dtype: float64"
      ]
     },
     "execution_count": 14,
     "metadata": {},
     "output_type": "execute_result"
    }
   ],
   "source": [
    "uk_accidents.groupby(\"Urban_or_Rural_Area\")[\"Number_of_Casualties\"].mean().sort_values(ascending=False)"
   ]
  },
  {
   "cell_type": "markdown",
   "id": "bad354f5-7b52-4cc1-b75d-c62ec7fe1253",
   "metadata": {},
   "source": [
    "<h1> INSIGHT 4: </h1>\n",
    "<p> This shows that the accidents in rural areas have a higher average number of casualties (1.48) compared to urban areas (1.29), with unallocated areas having the lowest average (1.18). This suggests that rural accidents tend to be more severe, possibly due to higher speeds or less safe road conditions.\n",
    "</p>"
   ]
  },
  {
   "cell_type": "markdown",
   "id": "1311a7d8-1ab9-433d-9e2b-bdd42e04f5d6",
   "metadata": {},
   "source": [
    "<h1> 5. In which light conditions do accidents typically have the highest severity?</h1>"
   ]
  },
  {
   "cell_type": "code",
   "execution_count": 15,
   "id": "a0337c3c-83fc-462d-915f-d8ab72a94100",
   "metadata": {},
   "outputs": [
    {
     "data": {
      "text/plain": [
       "Light_Conditions\n",
       "Darkness - lighting unknown    2.856570\n",
       "Daylight                       2.853756\n",
       "Darkness - lights lit          2.823327\n",
       "Darkness - lights unlit        2.823044\n",
       "Darkness - no lighting         2.722253\n",
       "Name: Accident_Severity, dtype: float64"
      ]
     },
     "execution_count": 15,
     "metadata": {},
     "output_type": "execute_result"
    }
   ],
   "source": [
    "uk_accidents.groupby(\"Light_Conditions\")[\"Accident_Severity\"].mean().sort_values(ascending=False)"
   ]
  },
  {
   "cell_type": "markdown",
   "id": "663eec7f-faba-48a8-90d7-d7868b00e479",
   "metadata": {},
   "source": [
    "<h1> INSIGHT 5:</h1>\n",
    "<p>This shows that while darkness with unknown lighting(2.856570 or2.86) is linked to the most severe accidents on average, severity differences between lighting conditions are relatively small.</p>"
   ]
  },
  {
   "cell_type": "markdown",
   "id": "05dda75b-0296-4c86-9e95-acd107a0a62a",
   "metadata": {},
   "source": [
    "<hr> \n",
    "<h1> Correlation </h1>"
   ]
  },
  {
   "cell_type": "markdown",
   "id": "27a6e4a5-e7fc-40b6-a798-254af697d8cc",
   "metadata": {},
   "source": [
    "<h1> 6. How is the number of casualties related to the number of vehicles involved in an accident? </h1>"
   ]
  },
  {
   "cell_type": "code",
   "execution_count": 16,
   "id": "25e88416-df01-422e-84d9-d9c79e4f4b8e",
   "metadata": {},
   "outputs": [
    {
     "data": {
      "text/plain": [
       "np.float64(0.2288888612692756)"
      ]
     },
     "execution_count": 16,
     "metadata": {},
     "output_type": "execute_result"
    }
   ],
   "source": [
    "uk_accidents[\"Number_of_Casualties\"].corr(uk_accidents[\"Number_of_Vehicles\"])"
   ]
  },
  {
   "cell_type": "markdown",
   "id": "1821ece1-34af-4431-89c2-b17d9877e7ca",
   "metadata": {},
   "source": [
    "<h1> INSIGHT 6: </h1>\n",
    "<p>A positive correlation of 0.23 indicates that accidents with more vehicles tend to have slightly more casualties, though the relationship is weak.\n",
    "</p>"
   ]
  },
  {
   "cell_type": "markdown",
   "id": "5dc343f2-e106-4a92-9b24-5bcb50956774",
   "metadata": {},
   "source": [
    "<h1>7. Does the latitude affect how severe accidents are? </h1>"
   ]
  },
  {
   "cell_type": "code",
   "execution_count": 17,
   "id": "1e2a0fb6-72ff-446e-8f5a-14e90a7eeef8",
   "metadata": {},
   "outputs": [
    {
     "data": {
      "text/plain": [
       "np.float64(-0.026468995471298485)"
      ]
     },
     "execution_count": 17,
     "metadata": {},
     "output_type": "execute_result"
    }
   ],
   "source": [
    "uk_accidents[\"Latitude\"].corr(uk_accidents[\"Accident_Severity\"])"
   ]
  },
  {
   "cell_type": "markdown",
   "id": "6a594dab-2512-47ce-b361-c38920a01942",
   "metadata": {},
   "source": [
    "<h1>INSIGHT 7:</h1>\n",
    "<p>This shows that there is no correlation between latitude and accident severity, meaning that where an accident occurs north or south does not affect how severe it is.\n",
    "</p>"
   ]
  },
  {
   "cell_type": "markdown",
   "id": "7bdd0d5d-88a7-4c05-b010-b8544ca56a05",
   "metadata": {},
   "source": [
    "<h1> 8. Has the number of casualties changed over time?</h1>"
   ]
  },
  {
   "cell_type": "code",
   "execution_count": 18,
   "id": "10b7fa1f-17fa-4820-a74e-18424197473f",
   "metadata": {},
   "outputs": [
    {
     "data": {
      "text/plain": [
       "np.float64(-0.003031562465276751)"
      ]
     },
     "execution_count": 18,
     "metadata": {},
     "output_type": "execute_result"
    }
   ],
   "source": [
    "uk_accidents[\"Accident Date\"] = pd.to_datetime(uk_accidents[\"Accident Date\"], errors='coerce')\n",
    "uk_accidents = uk_accidents.dropna(subset=[\"Accident Date\"])\n",
    "uk_accidents[\"Date_num\"] = uk_accidents[\"Accident Date\"].map(pd.Timestamp.toordinal)\n",
    "uk_accidents[\"Date_num\"].corr(uk_accidents[\"Number_of_Casualties\"])"
   ]
  },
  {
   "cell_type": "markdown",
   "id": "79fb286a-215a-4492-9f9c-0c91cf79a530",
   "metadata": {},
   "source": [
    "<h1> INSIGHT 8:</h1>\n",
    "<p>This shows that there is no correlation between accident date and the number of casualties, indicating that the number of casualties has not changed significantly over time.\n",
    "</p>"
   ]
  },
  {
   "cell_type": "markdown",
   "id": "b7d63cf1-2a9f-4c77-90d1-03b0ff3e32ef",
   "metadata": {},
   "source": [
    "<hr>\n",
    "<h1>DESCRIPTIVE</h1>"
   ]
  },
  {
   "cell_type": "markdown",
   "id": "fffc735b-11f5-405a-a36d-55acf44ccc10",
   "metadata": {},
   "source": [
    "<h1>9. Which types of roads are most commonly involved in accidents? </h1>"
   ]
  },
  {
   "cell_type": "code",
   "execution_count": 19,
   "id": "f02bf722-54b6-4c70-bfd2-ccd5daab1b58",
   "metadata": {},
   "outputs": [
    {
     "data": {
      "text/plain": [
       "Road_Type\n",
       "Single carriageway    199555\n",
       "Dual carriageway       39632\n",
       "Roundabout             17530\n",
       "One way street          5468\n",
       "Slip road               2822\n",
       "Name: count, dtype: int64"
      ]
     },
     "execution_count": 19,
     "metadata": {},
     "output_type": "execute_result"
    }
   ],
   "source": [
    "road_counts = uk_accidents[\"Road_Type\"].value_counts().sort_values(ascending=False)\n",
    "road_counts"
   ]
  },
  {
   "cell_type": "markdown",
   "id": "c12cf7ff-5949-4eb3-b3cd-d268a9940170",
   "metadata": {},
   "source": [
    "<h1> INSIGHT 9: </h1>\n",
    "<p> This suggests that single carriageways are the most accident-prone, possibly due to higher traffic density, limited overtaking opportunities, or narrower lanes.</p>"
   ]
  },
  {
   "cell_type": "markdown",
   "id": "606b93ca-a085-499e-ac07-55bcf6c62dfa",
   "metadata": {},
   "source": [
    "<h1> 10. How are accidents distributed between urban and rural areas?</h1>"
   ]
  },
  {
   "cell_type": "code",
   "execution_count": 20,
   "id": "d7527c2f-b301-4c49-b13b-fe29019ee196",
   "metadata": {},
   "outputs": [
    {
     "data": {
      "text/plain": [
       "Urban_or_Rural_Area\n",
       "Urban          169042\n",
       "Rural           95961\n",
       "Unallocated         4\n",
       "Name: count, dtype: int64"
      ]
     },
     "execution_count": 20,
     "metadata": {},
     "output_type": "execute_result"
    }
   ],
   "source": [
    "area_counts = uk_accidents[\"Urban_or_Rural_Area\"].value_counts()\n",
    "area_counts"
   ]
  },
  {
   "cell_type": "markdown",
   "id": "7bcb43b3-5336-40dd-a86d-793de247399a",
   "metadata": {},
   "source": [
    "<h1>INSIGHT 10: </h1>\n",
    "<p>This indicates that urban environments, likely due to higher traffic density and more complex road networks, experience more accidents than rural areas.</p>"
   ]
  },
  {
   "cell_type": "markdown",
   "id": "24a9c2b8-eadd-4b57-8f3c-25e4b3618b26",
   "metadata": {},
   "source": [
    "<hr>\n",
    "<h1> ANOVA (Categorical → Numerical) </h1>"
   ]
  },
  {
   "cell_type": "markdown",
   "id": "f71c9c58-8edb-4a4e-bbbc-6be09b0f6534",
   "metadata": {},
   "source": [
    "<h1>11. Do different road types have different average casualties?</h1>"
   ]
  },
  {
   "cell_type": "code",
   "execution_count": 21,
   "id": "7d45222e-8d13-4d0c-bf1d-13c397632720",
   "metadata": {},
   "outputs": [
    {
     "data": {
      "text/plain": [
       "F_onewayResult(statistic=np.float64(298.0796466734802), pvalue=np.float64(2.793590455313895e-256))"
      ]
     },
     "execution_count": 21,
     "metadata": {},
     "output_type": "execute_result"
    }
   ],
   "source": [
    "groups = [g[\"Number_of_Casualties\"].values for _, g in uk_accidents.groupby(\"Road_Type\")]\n",
    "f_oneway(*groups)"
   ]
  },
  {
   "cell_type": "markdown",
   "id": "05621cdc-d52d-4280-ab3b-828b6326c7e2",
   "metadata": {},
   "source": [
    "<h1>INSIGHT 11:</h1>\n",
    "<p>This shows that the average number of casualties differs significantly between road types, with some roads, like single carriageways, tending to have more casualties than others.\n",
    "</p>"
   ]
  },
  {
   "cell_type": "markdown",
   "id": "20c3232c-2e3d-499a-8f1d-a628cac8e9a5",
   "metadata": {},
   "source": [
    "<h1> 12.  Does light condition affect the number of vehicles involved? </h1>"
   ]
  },
  {
   "cell_type": "code",
   "execution_count": 22,
   "id": "1f1fadaa-89c1-4faa-ab2a-7cae4bdff11f",
   "metadata": {},
   "outputs": [
    {
     "data": {
      "text/plain": [
       "F_onewayResult(statistic=np.float64(595.5530377387355), pvalue=np.float64(0.0))"
      ]
     },
     "execution_count": 22,
     "metadata": {},
     "output_type": "execute_result"
    }
   ],
   "source": [
    "groups = [g[\"Number_of_Vehicles\"].values for _, g in uk_accidents.groupby(\"Light_Conditions\")]\n",
    "f_oneway(*groups)"
   ]
  },
  {
   "cell_type": "markdown",
   "id": "911c42e1-9e2b-4cc8-a141-b19d2905da1e",
   "metadata": {},
   "source": [
    "<h1> INSIGHT 12:</h1>\n",
    "<p>This shows that accidents involving more vehicles tend to have slightly more casualties, but the relationship is weak.\n",
    "</p>"
   ]
  },
  {
   "cell_type": "markdown",
   "id": "d3edc7f6-fb89-442b-ad7a-69888aea3ccd",
   "metadata": {},
   "source": [
    "<h1> 13. Do different districts show different casualty numbers? </h1>"
   ]
  },
  {
   "cell_type": "code",
   "execution_count": 23,
   "id": "0fc0e83c-b583-4f8b-8993-426e252b35fc",
   "metadata": {},
   "outputs": [
    {
     "data": {
      "text/plain": [
       "F_onewayResult(statistic=np.float64(10.307782461155597), pvalue=np.float64(0.0))"
      ]
     },
     "execution_count": 23,
     "metadata": {},
     "output_type": "execute_result"
    }
   ],
   "source": [
    "f_oneway(*[g[\"Number_of_Casualties\"].values for _, g in uk_accidents.groupby(\"District Area\")])"
   ]
  },
  {
   "cell_type": "markdown",
   "id": "1b6ccfb9-5bc7-4fe6-8922-dd239f8f31bb",
   "metadata": {},
   "source": [
    "<h1>INSIGHT 13: </h1>\n",
    "<p>This shows that some districts have more casualties per accident than others.</p>"
   ]
  },
  {
   "cell_type": "markdown",
   "id": "33f7a865-9d7a-497f-8857-ff3262b85618",
   "metadata": {},
   "source": [
    "<h1>DESCRIPTIVE COMPARISON </h1>"
   ]
  },
  {
   "cell_type": "markdown",
   "id": "48233050-1e78-4e87-aaa9-a072896dcda3",
   "metadata": {},
   "source": [
    "<h1>14. Which vehicle type is linked to the highest average severity?</h1>"
   ]
  },
  {
   "cell_type": "code",
   "execution_count": 24,
   "id": "c46a27fb-d629-447c-be32-f1053c4d1a78",
   "metadata": {},
   "outputs": [
    {
     "data": {
      "text/plain": [
       "Vehicle_Type\n",
       "Data missing or out of range             3.000000\n",
       "Ridden horse                             3.000000\n",
       "Motorcycle over 125cc and up to 500cc    2.846307\n",
       "Goods over 3.5t. and under 7.5t          2.845965\n",
       "Motorcycle over 500cc                    2.844102\n",
       "Bus or coach (17 or more pass seats)     2.843330\n",
       "Taxi/Private hire car                    2.843163\n",
       "Car                                      2.840504\n",
       "Motorcycle 125cc and under               2.840175\n",
       "Van / Goods 3.5 tonnes mgw or under      2.836188\n",
       "Goods 7.5 tonnes mgw and over            2.836145\n",
       "Motorcycle 50cc and under                2.835406\n",
       "Other vehicle                            2.833628\n",
       "Agricultural vehicle                     2.833542\n",
       "Minibus (8 - 16 passenger seats)         2.829517\n",
       "Pedal cycle                              2.750000\n",
       "Name: Accident_Severity, dtype: float64"
      ]
     },
     "execution_count": 24,
     "metadata": {},
     "output_type": "execute_result"
    }
   ],
   "source": [
    "uk_accidents.groupby(\"Vehicle_Type\")[\"Accident_Severity\"].mean().sort_values(ascending=False)"
   ]
  },
  {
   "cell_type": "markdown",
   "id": "36513079-87bf-42b5-bd4f-11338c24e77a",
   "metadata": {},
   "source": [
    "<h1>INSIGHT 14: </h1>\n",
    "<p>This shows that ridden horses and missing data cases have the highest severity. This suggests that motorcycles and mid-sized goods vehicles are linked to more severe accidents, while pedal cycles are the least severe.\n",
    "</p>"
   ]
  },
  {
   "cell_type": "markdown",
   "id": "58dea0bc-442c-4874-9a1b-ede995b49268",
   "metadata": {},
   "source": [
    "<h1> 15. Which road surface leads to the highest casualties?</h1>"
   ]
  },
  {
   "cell_type": "code",
   "execution_count": 25,
   "id": "071e8fd6-1979-4a65-b679-01c3fb7c33e3",
   "metadata": {},
   "outputs": [
    {
     "data": {
      "text/plain": [
       "Road_Surface_Conditions\n",
       "Flood over 3cm. deep    1.495098\n",
       "Wet or damp             1.402693\n",
       "Snow                    1.343997\n",
       "Frost or ice            1.334603\n",
       "Dry                     1.331892\n",
       "Name: Number_of_Casualties, dtype: float64"
      ]
     },
     "execution_count": 25,
     "metadata": {},
     "output_type": "execute_result"
    }
   ],
   "source": [
    "uk_accidents.groupby(\"Road_Surface_Conditions\")[\"Number_of_Casualties\"].mean().sort_values(ascending=False)"
   ]
  },
  {
   "cell_type": "markdown",
   "id": "db41489d-e835-4f1b-890a-673572ca9ff6",
   "metadata": {},
   "source": [
    "<h1>INSIGHT 15:</h1>\n",
    "<p>This shows that roads with flood over 3cm deep have the highest average casualties. This indicates that wet, snowy, or icy conditions also increase casualties, while dry roads have the lowest.</p>"
   ]
  },
  {
   "cell_type": "markdown",
   "id": "0ca45203-7f77-4519-8517-351c3da818a9",
   "metadata": {},
   "source": [
    "<h1>16. What is the trend of average vehicles per accident across different years?</h1>"
   ]
  },
  {
   "cell_type": "code",
   "execution_count": 26,
   "id": "a6c7067d-62d4-4408-81d8-62757134ebf2",
   "metadata": {},
   "outputs": [
    {
     "data": {
      "text/plain": [
       "Accident Date\n",
       "2019    1.837784\n",
       "2020    1.827145\n",
       "2021    1.823475\n",
       "2022    1.832004\n",
       "Name: Number_of_Vehicles, dtype: float64"
      ]
     },
     "execution_count": 26,
     "metadata": {},
     "output_type": "execute_result"
    }
   ],
   "source": [
    "vehicle_year = uk_accidents.groupby(uk_accidents[\"Accident Date\"].dt.year)[\"Number_of_Vehicles\"].mean()\n",
    "vehicle_year"
   ]
  },
  {
   "cell_type": "markdown",
   "id": "11e8e8eb-4422-46a8-9d17-d3660be18ced",
   "metadata": {},
   "source": [
    "<h1>INSIGHT 16: </h1>\n",
    "<p>This shows that the average number of vehicles per accident has remained fairly stable over time, ranging between 1.82 and 1.84, with only slight fluctuations across the years.</p>"
   ]
  },
  {
   "cell_type": "markdown",
   "id": "4380371b-1796-4c3a-b992-ab58bf79e237",
   "metadata": {},
   "source": [
    "<h1>17. Which accidents involved both motorcycles and high-speed roads (dual carriageways)?</h1>"
   ]
  },
  {
   "cell_type": "code",
   "execution_count": 27,
   "id": "e9a37fc4-4180-4623-8ac6-9d23ae9473ae",
   "metadata": {},
   "outputs": [
    {
     "data": {
      "text/plain": [
       "Vehicle_Type\n",
       "Motorcycle over 500cc                    1602\n",
       "Motorcycle 125cc and under                877\n",
       "Motorcycle over 125cc and up to 500cc     481\n",
       "Motorcycle 50cc and under                 447\n",
       "Data missing or out of range                0\n",
       "Agricultural vehicle                        0\n",
       "Car                                         0\n",
       "Bus or coach (17 or more pass seats)        0\n",
       "Minibus (8 - 16 passenger seats)            0\n",
       "Goods over 3.5t. and under 7.5t             0\n",
       "Goods 7.5 tonnes mgw and over               0\n",
       "Other vehicle                               0\n",
       "Pedal cycle                                 0\n",
       "Ridden horse                                0\n",
       "Taxi/Private hire car                       0\n",
       "Van / Goods 3.5 tonnes mgw or under         0\n",
       "Name: count, dtype: int64"
      ]
     },
     "execution_count": 27,
     "metadata": {},
     "output_type": "execute_result"
    }
   ],
   "source": [
    "motor_highspeed = uk_accidents[\n",
    "    (uk_accidents[\"Vehicle_Type\"].str.contains(\"Motorcycle\")) &\n",
    "    (uk_accidents[\"Road_Type\"] == \"Dual carriageway\")\n",
    "]\n",
    "\n",
    "motor_summary = motor_highspeed[\"Vehicle_Type\"].value_counts().sort_values(ascending=False)\n",
    "motor_summary\n"
   ]
  },
  {
   "cell_type": "markdown",
   "id": "bac7a084-714b-44ae-b028-a59bf1f9bafc",
   "metadata": {},
   "source": [
    "<h1>INSIGHT 17: </h1>\n",
    "<p>This shows that motorcycles on dual carriageways are involved in accidents, with Motorcycle over 500cc having the highest count, indicating that high-speed roads are riskier for powerful motorcycles.</p>"
   ]
  },
  {
   "cell_type": "markdown",
   "id": "657475cb-452f-46ea-9f82-b22de9e19c50",
   "metadata": {},
   "source": [
    "<h1>18. Are there vehicle types that rarely appear in accidents?</h1>"
   ]
  },
  {
   "cell_type": "code",
   "execution_count": 28,
   "id": "2ed6c355-63ca-441e-8c5f-22bdf77b38dd",
   "metadata": {},
   "outputs": [
    {
     "data": {
      "text/plain": [
       "Vehicle_Type\n",
       "Ridden horse                          2\n",
       "Data missing or out of range          4\n",
       "Pedal cycle                          92\n",
       "Minibus (8 - 16 passenger seats)    786\n",
       "Agricultural vehicle                799\n",
       "Name: count, dtype: int64"
      ]
     },
     "execution_count": 28,
     "metadata": {},
     "output_type": "execute_result"
    }
   ],
   "source": [
    "rare = uk_accidents[\"Vehicle_Type\"].value_counts().nsmallest(5)\n",
    "rare"
   ]
  },
  {
   "cell_type": "markdown",
   "id": "f67e4a2f-149f-465c-b573-8ebe1145368c",
   "metadata": {},
   "source": [
    "<h1>INSIGHT 18: </h1>\n",
    "<p>This shows that agricultural vehicles and pedal cycle are involved in fewer accidents, indicating these vehicles are less common on accident-prone roads.</p>"
   ]
  },
  {
   "cell_type": "markdown",
   "id": "c4b15f27-6e49-4442-b804-1ff49bd5106c",
   "metadata": {},
   "source": [
    "<h1> 19. Which light condition occurs least often in accidents?</h1>"
   ]
  },
  {
   "cell_type": "code",
   "execution_count": 29,
   "id": "1414f163-b617-4c3f-ac4c-e4adb4aa08dc",
   "metadata": {},
   "outputs": [
    {
     "data": {
      "text/plain": [
       "Light_Conditions\n",
       "Darkness - lights unlit    1019\n",
       "Name: count, dtype: int64"
      ]
     },
     "execution_count": 29,
     "metadata": {},
     "output_type": "execute_result"
    }
   ],
   "source": [
    "uk_accidents[\"Light_Conditions\"].value_counts().nsmallest(1)"
   ]
  },
  {
   "cell_type": "markdown",
   "id": "75157545-6da4-4861-94e7-285bab03d985",
   "metadata": {},
   "source": [
    "<h1>INSIGHT 19: </h1>\n",
    "<p>This shows that darkness with lights unlit is the least common accident scenario, suggesting most accidents happen under some level of visibility.</p>"
   ]
  },
  {
   "cell_type": "markdown",
   "id": "e820a4d6-4b4b-4d24-ae4b-690ae0605bb4",
   "metadata": {},
   "source": [
    "<h1>20. Which road types have the most accidents at night?</h1>"
   ]
  },
  {
   "cell_type": "code",
   "execution_count": 30,
   "id": "ba0f8e2f-a41b-465a-97a1-af738d4e0569",
   "metadata": {},
   "outputs": [
    {
     "data": {
      "text/plain": [
       "Road_Type\n",
       "Single carriageway    51718\n",
       "Dual carriageway      11679\n",
       "Roundabout             4453\n",
       "One way street         1459\n",
       "Slip road               727\n",
       "Name: count, dtype: int64"
      ]
     },
     "execution_count": 30,
     "metadata": {},
     "output_type": "execute_result"
    }
   ],
   "source": [
    "uk_accidents[uk_accidents[\"Light_Conditions\"].str.contains(\"Darkness\")][\"Road_Type\"].value_counts()"
   ]
  },
  {
   "cell_type": "markdown",
   "id": "325986d9-041d-4875-875c-ed8bcb0402ad",
   "metadata": {},
   "source": [
    "<h1>INSIGHT 20: </h1>\n",
    "<p>This shows that single carriageways have the most accidents at night, followed by dual carriageways and roundabouts, indicating that these roads are more prone to nighttime accidents.</p>"
   ]
  }
 ],
 "metadata": {
  "kernelspec": {
   "display_name": "Python 3 (ipykernel)",
   "language": "python",
   "name": "python3"
  },
  "language_info": {
   "codemirror_mode": {
    "name": "ipython",
    "version": 3
   },
   "file_extension": ".py",
   "mimetype": "text/x-python",
   "name": "python",
   "nbconvert_exporter": "python",
   "pygments_lexer": "ipython3",
   "version": "3.11.5"
  }
 },
 "nbformat": 4,
 "nbformat_minor": 5
}
