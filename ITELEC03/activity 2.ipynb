{
 "cells": [
  {
   "cell_type": "markdown",
   "id": "8b1e3093-4e9b-4fda-be2f-5662c3cfe56a",
   "metadata": {},
   "source": [
    "<h1>\n",
    "  <span style=\"color:#0d8dfc;\">ACTIVITY 2:</span>\n",
    "  <span>UK ACCIDENT DATA ANALYTICS PROJECT</span>\n",
    "</h1>\n",
    "\n",
    "<hr>"
   ]
  },
  {
   "cell_type": "markdown",
   "id": "ffabdb81-9324-41e7-883c-3a8e6655df9b",
   "metadata": {},
   "source": [
    "<h1> ANALYST: RHEALYN VASQUEZ </h1>"
   ]
  },
  {
   "cell_type": "code",
   "execution_count": 261,
   "id": "abda1197-629f-426f-ab1e-2c75bc3e583a",
   "metadata": {},
   "outputs": [],
   "source": [
    "import numpy as np\n",
    "import pandas as pd\n",
    "import matplotlib.pyplot as plt\n",
    "import seaborn as sns\n",
    "from scipy.stats import f_oneway\n",
    "import warnings\n",
    "warnings.filterwarnings('ignore')"
   ]
  },
  {
   "cell_type": "code",
   "execution_count": 262,
   "id": "04bffde4-a639-46cf-bac2-aacf5be3d834",
   "metadata": {},
   "outputs": [],
   "source": [
    "uk_accidents = pd.read_csv('datasets\\\\uk_accident_data.csv')"
   ]
  },
  {
   "cell_type": "code",
   "execution_count": 263,
   "id": "d86b030f-72e8-4359-b471-9cfbdd05276b",
   "metadata": {},
   "outputs": [
    {
     "data": {
      "text/html": [
       "<div>\n",
       "<style scoped>\n",
       "    .dataframe tbody tr th:only-of-type {\n",
       "        vertical-align: middle;\n",
       "    }\n",
       "\n",
       "    .dataframe tbody tr th {\n",
       "        vertical-align: top;\n",
       "    }\n",
       "\n",
       "    .dataframe thead th {\n",
       "        text-align: right;\n",
       "    }\n",
       "</style>\n",
       "<table border=\"1\" class=\"dataframe\">\n",
       "  <thead>\n",
       "    <tr style=\"text-align: right;\">\n",
       "      <th></th>\n",
       "      <th>Index</th>\n",
       "      <th>Accident_Severity</th>\n",
       "      <th>Accident Date</th>\n",
       "      <th>Latitude</th>\n",
       "      <th>Light_Conditions</th>\n",
       "      <th>District Area</th>\n",
       "      <th>Longitude</th>\n",
       "      <th>Number_of_Casualties</th>\n",
       "      <th>Number_of_Vehicles</th>\n",
       "      <th>Road_Surface_Conditions</th>\n",
       "      <th>Road_Type</th>\n",
       "      <th>Urban_or_Rural_Area</th>\n",
       "      <th>Weather_Conditions</th>\n",
       "      <th>Vehicle_Type</th>\n",
       "    </tr>\n",
       "  </thead>\n",
       "  <tbody>\n",
       "    <tr>\n",
       "      <th>0</th>\n",
       "      <td>200701BS64157</td>\n",
       "      <td>Serious</td>\n",
       "      <td>05/06/2019</td>\n",
       "      <td>51.506187</td>\n",
       "      <td>Darkness - lights lit</td>\n",
       "      <td>Kensington and Chelsea</td>\n",
       "      <td>-0.209082</td>\n",
       "      <td>1</td>\n",
       "      <td>2</td>\n",
       "      <td>Dry</td>\n",
       "      <td>Single carriageway</td>\n",
       "      <td>Urban</td>\n",
       "      <td>Fine no high winds</td>\n",
       "      <td>Car</td>\n",
       "    </tr>\n",
       "    <tr>\n",
       "      <th>1</th>\n",
       "      <td>200701BS65737</td>\n",
       "      <td>Serious</td>\n",
       "      <td>02/07/2019</td>\n",
       "      <td>51.495029</td>\n",
       "      <td>Daylight</td>\n",
       "      <td>Kensington and Chelsea</td>\n",
       "      <td>-0.173647</td>\n",
       "      <td>1</td>\n",
       "      <td>2</td>\n",
       "      <td>Wet or damp</td>\n",
       "      <td>Single carriageway</td>\n",
       "      <td>Urban</td>\n",
       "      <td>Raining no high winds</td>\n",
       "      <td>Car</td>\n",
       "    </tr>\n",
       "    <tr>\n",
       "      <th>2</th>\n",
       "      <td>200701BS66127</td>\n",
       "      <td>Serious</td>\n",
       "      <td>26/08/2019</td>\n",
       "      <td>51.517715</td>\n",
       "      <td>Darkness - lighting unknown</td>\n",
       "      <td>Kensington and Chelsea</td>\n",
       "      <td>-0.210215</td>\n",
       "      <td>1</td>\n",
       "      <td>3</td>\n",
       "      <td>Dry</td>\n",
       "      <td>NaN</td>\n",
       "      <td>Urban</td>\n",
       "      <td>NaN</td>\n",
       "      <td>Taxi/Private hire car</td>\n",
       "    </tr>\n",
       "    <tr>\n",
       "      <th>3</th>\n",
       "      <td>200701BS66128</td>\n",
       "      <td>Serious</td>\n",
       "      <td>16/08/2019</td>\n",
       "      <td>51.495478</td>\n",
       "      <td>Daylight</td>\n",
       "      <td>Kensington and Chelsea</td>\n",
       "      <td>-0.202731</td>\n",
       "      <td>1</td>\n",
       "      <td>4</td>\n",
       "      <td>Dry</td>\n",
       "      <td>Single carriageway</td>\n",
       "      <td>Urban</td>\n",
       "      <td>Fine no high winds</td>\n",
       "      <td>Bus or coach (17 or more pass seats)</td>\n",
       "    </tr>\n",
       "    <tr>\n",
       "      <th>4</th>\n",
       "      <td>200701BS66837</td>\n",
       "      <td>Slight</td>\n",
       "      <td>03/09/2019</td>\n",
       "      <td>51.488576</td>\n",
       "      <td>Darkness - lights lit</td>\n",
       "      <td>Kensington and Chelsea</td>\n",
       "      <td>-0.192487</td>\n",
       "      <td>1</td>\n",
       "      <td>2</td>\n",
       "      <td>Dry</td>\n",
       "      <td>NaN</td>\n",
       "      <td>Urban</td>\n",
       "      <td>NaN</td>\n",
       "      <td>Other vehicle</td>\n",
       "    </tr>\n",
       "  </tbody>\n",
       "</table>\n",
       "</div>"
      ],
      "text/plain": [
       "           Index Accident_Severity Accident Date   Latitude  \\\n",
       "0  200701BS64157           Serious    05/06/2019  51.506187   \n",
       "1  200701BS65737           Serious    02/07/2019  51.495029   \n",
       "2  200701BS66127           Serious    26/08/2019  51.517715   \n",
       "3  200701BS66128           Serious    16/08/2019  51.495478   \n",
       "4  200701BS66837            Slight    03/09/2019  51.488576   \n",
       "\n",
       "              Light_Conditions           District Area  Longitude  \\\n",
       "0        Darkness - lights lit  Kensington and Chelsea  -0.209082   \n",
       "1                     Daylight  Kensington and Chelsea  -0.173647   \n",
       "2  Darkness - lighting unknown  Kensington and Chelsea  -0.210215   \n",
       "3                     Daylight  Kensington and Chelsea  -0.202731   \n",
       "4        Darkness - lights lit  Kensington and Chelsea  -0.192487   \n",
       "\n",
       "   Number_of_Casualties  Number_of_Vehicles Road_Surface_Conditions  \\\n",
       "0                     1                   2                     Dry   \n",
       "1                     1                   2             Wet or damp   \n",
       "2                     1                   3                     Dry   \n",
       "3                     1                   4                     Dry   \n",
       "4                     1                   2                     Dry   \n",
       "\n",
       "            Road_Type Urban_or_Rural_Area     Weather_Conditions  \\\n",
       "0  Single carriageway               Urban     Fine no high winds   \n",
       "1  Single carriageway               Urban  Raining no high winds   \n",
       "2                 NaN               Urban                    NaN   \n",
       "3  Single carriageway               Urban     Fine no high winds   \n",
       "4                 NaN               Urban                    NaN   \n",
       "\n",
       "                           Vehicle_Type  \n",
       "0                                   Car  \n",
       "1                                   Car  \n",
       "2                 Taxi/Private hire car  \n",
       "3  Bus or coach (17 or more pass seats)  \n",
       "4                         Other vehicle  "
      ]
     },
     "execution_count": 263,
     "metadata": {},
     "output_type": "execute_result"
    }
   ],
   "source": [
    "#this shows the 5 first row\n",
    "uk_accidents.head()"
   ]
  },
  {
   "cell_type": "code",
   "execution_count": 264,
   "id": "19b23a41-165a-4f83-8b7e-b44c77b8098f",
   "metadata": {},
   "outputs": [
    {
     "name": "stdout",
     "output_type": "stream",
     "text": [
      "<class 'pandas.core.frame.DataFrame'>\n",
      "RangeIndex: 660679 entries, 0 to 660678\n",
      "Data columns (total 14 columns):\n",
      " #   Column                   Non-Null Count   Dtype  \n",
      "---  ------                   --------------   -----  \n",
      " 0   Index                    660679 non-null  object \n",
      " 1   Accident_Severity        660679 non-null  object \n",
      " 2   Accident Date            660679 non-null  object \n",
      " 3   Latitude                 660654 non-null  float64\n",
      " 4   Light_Conditions         660679 non-null  object \n",
      " 5   District Area            660679 non-null  object \n",
      " 6   Longitude                660653 non-null  float64\n",
      " 7   Number_of_Casualties     660679 non-null  int64  \n",
      " 8   Number_of_Vehicles       660679 non-null  int64  \n",
      " 9   Road_Surface_Conditions  659953 non-null  object \n",
      " 10  Road_Type                656159 non-null  object \n",
      " 11  Urban_or_Rural_Area      660664 non-null  object \n",
      " 12  Weather_Conditions       646551 non-null  object \n",
      " 13  Vehicle_Type             660679 non-null  object \n",
      "dtypes: float64(2), int64(2), object(10)\n",
      "memory usage: 70.6+ MB\n"
     ]
    }
   ],
   "source": [
    "#this shows quick summary of the DataFrame\n",
    "uk_accidents.info()"
   ]
  },
  {
   "cell_type": "code",
   "execution_count": 265,
   "id": "fb8f126c-ba7f-486a-b564-6ba90df93a22",
   "metadata": {},
   "outputs": [
    {
     "data": {
      "text/html": [
       "<div>\n",
       "<style scoped>\n",
       "    .dataframe tbody tr th:only-of-type {\n",
       "        vertical-align: middle;\n",
       "    }\n",
       "\n",
       "    .dataframe tbody tr th {\n",
       "        vertical-align: top;\n",
       "    }\n",
       "\n",
       "    .dataframe thead th {\n",
       "        text-align: right;\n",
       "    }\n",
       "</style>\n",
       "<table border=\"1\" class=\"dataframe\">\n",
       "  <thead>\n",
       "    <tr style=\"text-align: right;\">\n",
       "      <th></th>\n",
       "      <th>Latitude</th>\n",
       "      <th>Longitude</th>\n",
       "      <th>Number_of_Casualties</th>\n",
       "      <th>Number_of_Vehicles</th>\n",
       "    </tr>\n",
       "  </thead>\n",
       "  <tbody>\n",
       "    <tr>\n",
       "      <th>count</th>\n",
       "      <td>660654.000000</td>\n",
       "      <td>660653.000000</td>\n",
       "      <td>660679.000000</td>\n",
       "      <td>660679.000000</td>\n",
       "    </tr>\n",
       "    <tr>\n",
       "      <th>mean</th>\n",
       "      <td>52.553866</td>\n",
       "      <td>-1.431210</td>\n",
       "      <td>1.357040</td>\n",
       "      <td>1.831255</td>\n",
       "    </tr>\n",
       "    <tr>\n",
       "      <th>std</th>\n",
       "      <td>1.406922</td>\n",
       "      <td>1.383330</td>\n",
       "      <td>0.824847</td>\n",
       "      <td>0.715269</td>\n",
       "    </tr>\n",
       "    <tr>\n",
       "      <th>min</th>\n",
       "      <td>49.914430</td>\n",
       "      <td>-7.516225</td>\n",
       "      <td>1.000000</td>\n",
       "      <td>1.000000</td>\n",
       "    </tr>\n",
       "    <tr>\n",
       "      <th>25%</th>\n",
       "      <td>51.490690</td>\n",
       "      <td>-2.332291</td>\n",
       "      <td>1.000000</td>\n",
       "      <td>1.000000</td>\n",
       "    </tr>\n",
       "    <tr>\n",
       "      <th>50%</th>\n",
       "      <td>52.315641</td>\n",
       "      <td>-1.411667</td>\n",
       "      <td>1.000000</td>\n",
       "      <td>2.000000</td>\n",
       "    </tr>\n",
       "    <tr>\n",
       "      <th>75%</th>\n",
       "      <td>53.453452</td>\n",
       "      <td>-0.232869</td>\n",
       "      <td>1.000000</td>\n",
       "      <td>2.000000</td>\n",
       "    </tr>\n",
       "    <tr>\n",
       "      <th>max</th>\n",
       "      <td>60.757544</td>\n",
       "      <td>1.762010</td>\n",
       "      <td>68.000000</td>\n",
       "      <td>32.000000</td>\n",
       "    </tr>\n",
       "  </tbody>\n",
       "</table>\n",
       "</div>"
      ],
      "text/plain": [
       "            Latitude      Longitude  Number_of_Casualties  Number_of_Vehicles\n",
       "count  660654.000000  660653.000000         660679.000000       660679.000000\n",
       "mean       52.553866      -1.431210              1.357040            1.831255\n",
       "std         1.406922       1.383330              0.824847            0.715269\n",
       "min        49.914430      -7.516225              1.000000            1.000000\n",
       "25%        51.490690      -2.332291              1.000000            1.000000\n",
       "50%        52.315641      -1.411667              1.000000            2.000000\n",
       "75%        53.453452      -0.232869              1.000000            2.000000\n",
       "max        60.757544       1.762010             68.000000           32.000000"
      ]
     },
     "execution_count": 265,
     "metadata": {},
     "output_type": "execute_result"
    }
   ],
   "source": [
    "# this shows quick statistics about the data\n",
    "uk_accidents.describe()"
   ]
  },
  {
   "cell_type": "code",
   "execution_count": 266,
   "id": "b58a04fa-b5f5-4cf1-ab9d-fd52b24ee03d",
   "metadata": {},
   "outputs": [
    {
     "data": {
      "text/plain": [
       "Index                          0\n",
       "Accident_Severity              0\n",
       "Accident Date                  0\n",
       "Latitude                      25\n",
       "Light_Conditions               0\n",
       "District Area                  0\n",
       "Longitude                     26\n",
       "Number_of_Casualties           0\n",
       "Number_of_Vehicles             0\n",
       "Road_Surface_Conditions      726\n",
       "Road_Type                   4520\n",
       "Urban_or_Rural_Area           15\n",
       "Weather_Conditions         14128\n",
       "Vehicle_Type                   0\n",
       "dtype: int64"
      ]
     },
     "execution_count": 266,
     "metadata": {},
     "output_type": "execute_result"
    }
   ],
   "source": [
    "uk_accidents.isnull().sum()"
   ]
  },
  {
   "cell_type": "markdown",
   "id": "2eca8ab0-0334-4050-a558-d94f872dc9a9",
   "metadata": {},
   "source": [
    "<h1> FILLING MISSING VALUES/NULL VALUES </h1>"
   ]
  },
  {
   "cell_type": "code",
   "execution_count": 267,
   "id": "e796e426-7094-4718-ac20-4074b5c90144",
   "metadata": {},
   "outputs": [],
   "source": [
    "#mean - to handle missing values in numeric columns\n",
    "for num in ['Latitude', 'Longitude']:\n",
    "    uk_accidents[num] = uk_accidents[num].fillna(uk_accidents[num].mean())\n",
    "    \n",
    "#mode - to handle missing values in categorical columns\n",
    "for cat in ['Road_Surface_Conditions', 'Urban_or_Rural_Area', 'Weather_Conditions']:\n",
    "    uk_accidents[cat] = uk_accidents[cat].fillna(uk_accidents[cat].mode()[0])\n",
    "\n",
    "uk_accidents['Road_Type'] = uk_accidents['Road_Type'].fillna('Unknown')"
   ]
  },
  {
   "cell_type": "code",
   "execution_count": 268,
   "id": "f8f12d42-4ff9-40cc-9fbb-504ffc15c992",
   "metadata": {},
   "outputs": [
    {
     "data": {
      "text/plain": [
       "Index                      0\n",
       "Accident_Severity          0\n",
       "Accident Date              0\n",
       "Latitude                   0\n",
       "Light_Conditions           0\n",
       "District Area              0\n",
       "Longitude                  0\n",
       "Number_of_Casualties       0\n",
       "Number_of_Vehicles         0\n",
       "Road_Surface_Conditions    0\n",
       "Road_Type                  0\n",
       "Urban_or_Rural_Area        0\n",
       "Weather_Conditions         0\n",
       "Vehicle_Type               0\n",
       "dtype: int64"
      ]
     },
     "execution_count": 268,
     "metadata": {},
     "output_type": "execute_result"
    }
   ],
   "source": [
    "uk_accidents.isnull().sum()"
   ]
  },
  {
   "cell_type": "code",
   "execution_count": 269,
   "id": "00d51924-5b90-4412-8640-7c7e7f949c43",
   "metadata": {},
   "outputs": [],
   "source": [
    "uk_accidents['Index'] = uk_accidents['Index'].astype('category')\n",
    "uk_accidents['Accident_Severity'] = uk_accidents['Accident_Severity'].astype('category')\n",
    "uk_accidents['Accident Date'] = uk_accidents['Accident Date'].astype('str')\n",
    "uk_accidents['Accident Date'] = uk_accidents['Accident Date'].str.replace('/', '-')\n",
    "uk_accidents['Accident Date'] = pd.to_datetime(uk_accidents['Accident Date'], dayfirst = True, errors='coerce')\n",
    "uk_accidents['Latitude'] = uk_accidents['Latitude'].astype('float')\n",
    "uk_accidents['Longitude'] = uk_accidents['Longitude'].astype('float')\n",
    "uk_accidents['Light_Conditions'] = uk_accidents['Light_Conditions'].astype('category')\n",
    "uk_accidents['District Area'] = uk_accidents['District Area'].astype('category')\n",
    "uk_accidents['Number_of_Casualties'] = uk_accidents['Number_of_Casualties'].astype('int')\n",
    "uk_accidents['Number_of_Vehicles'] = uk_accidents['Number_of_Vehicles'].astype('int')\n",
    "uk_accidents['Road_Surface_Conditions'] = uk_accidents['Road_Surface_Conditions'].astype('category')\n",
    "uk_accidents['Road_Type'] = uk_accidents['Road_Type'].astype('category')\n",
    "uk_accidents['Urban_or_Rural_Area'] = uk_accidents['Urban_or_Rural_Area'].astype('category')\n",
    "uk_accidents['Weather_Conditions'] = uk_accidents['Weather_Conditions'].astype('category')\n",
    "uk_accidents['Vehicle_Type'] = uk_accidents['Vehicle_Type'].astype('category')"
   ]
  },
  {
   "cell_type": "code",
   "execution_count": 270,
   "id": "aa6b6389-1d97-4b6e-84fd-49b77ef1c564",
   "metadata": {},
   "outputs": [
    {
     "data": {
      "text/plain": [
       "Index                            category\n",
       "Accident_Severity                category\n",
       "Accident Date              datetime64[ns]\n",
       "Latitude                          float64\n",
       "Light_Conditions                 category\n",
       "District Area                    category\n",
       "Longitude                         float64\n",
       "Number_of_Casualties                int64\n",
       "Number_of_Vehicles                  int64\n",
       "Road_Surface_Conditions          category\n",
       "Road_Type                        category\n",
       "Urban_or_Rural_Area              category\n",
       "Weather_Conditions               category\n",
       "Vehicle_Type                     category\n",
       "dtype: object"
      ]
     },
     "execution_count": 270,
     "metadata": {},
     "output_type": "execute_result"
    }
   ],
   "source": [
    "uk_accidents.dtypes"
   ]
  },
  {
   "cell_type": "markdown",
   "id": "5dfaf50d-4606-4ff6-9728-c2bb8bd2ed06",
   "metadata": {},
   "source": [
    "<h1> EXTRACTING DATE INFORMATION USING PANDAS DATE TIME </h1>"
   ]
  },
  {
   "cell_type": "code",
   "execution_count": 271,
   "id": "6a696e40-80c3-43f4-b495-2ba72f2cebe9",
   "metadata": {},
   "outputs": [],
   "source": [
    "uk_accidents['Year'] = uk_accidents['Accident Date'].dt.year\n",
    "uk_accidents['Month'] = uk_accidents['Accident Date'].dt.month\n",
    "uk_accidents['Month_Name'] = uk_accidents['Accident Date'].dt.month_name()\n",
    "uk_accidents['Date'] = uk_accidents['Accident Date'].dt.day\n",
    "uk_accidents['Day'] = uk_accidents['Accident Date'].dt.day_name()\n",
    "uk_accidents['Week'] = uk_accidents['Accident Date'].dt.isocalendar().week"
   ]
  },
  {
   "cell_type": "code",
   "execution_count": 272,
   "id": "efa41c08-1449-4b71-b247-61f409d4b62e",
   "metadata": {},
   "outputs": [
    {
     "data": {
      "text/html": [
       "<div>\n",
       "<style scoped>\n",
       "    .dataframe tbody tr th:only-of-type {\n",
       "        vertical-align: middle;\n",
       "    }\n",
       "\n",
       "    .dataframe tbody tr th {\n",
       "        vertical-align: top;\n",
       "    }\n",
       "\n",
       "    .dataframe thead th {\n",
       "        text-align: right;\n",
       "    }\n",
       "</style>\n",
       "<table border=\"1\" class=\"dataframe\">\n",
       "  <thead>\n",
       "    <tr style=\"text-align: right;\">\n",
       "      <th></th>\n",
       "      <th>Accident Date</th>\n",
       "      <th>Year</th>\n",
       "      <th>Month</th>\n",
       "      <th>Month_Name</th>\n",
       "      <th>Date</th>\n",
       "      <th>Day</th>\n",
       "      <th>Week</th>\n",
       "    </tr>\n",
       "  </thead>\n",
       "  <tbody>\n",
       "    <tr>\n",
       "      <th>0</th>\n",
       "      <td>2019-06-05</td>\n",
       "      <td>2019</td>\n",
       "      <td>6</td>\n",
       "      <td>June</td>\n",
       "      <td>5</td>\n",
       "      <td>Wednesday</td>\n",
       "      <td>23</td>\n",
       "    </tr>\n",
       "    <tr>\n",
       "      <th>1</th>\n",
       "      <td>2019-07-02</td>\n",
       "      <td>2019</td>\n",
       "      <td>7</td>\n",
       "      <td>July</td>\n",
       "      <td>2</td>\n",
       "      <td>Tuesday</td>\n",
       "      <td>27</td>\n",
       "    </tr>\n",
       "    <tr>\n",
       "      <th>2</th>\n",
       "      <td>2019-08-26</td>\n",
       "      <td>2019</td>\n",
       "      <td>8</td>\n",
       "      <td>August</td>\n",
       "      <td>26</td>\n",
       "      <td>Monday</td>\n",
       "      <td>35</td>\n",
       "    </tr>\n",
       "    <tr>\n",
       "      <th>3</th>\n",
       "      <td>2019-08-16</td>\n",
       "      <td>2019</td>\n",
       "      <td>8</td>\n",
       "      <td>August</td>\n",
       "      <td>16</td>\n",
       "      <td>Friday</td>\n",
       "      <td>33</td>\n",
       "    </tr>\n",
       "    <tr>\n",
       "      <th>4</th>\n",
       "      <td>2019-09-03</td>\n",
       "      <td>2019</td>\n",
       "      <td>9</td>\n",
       "      <td>September</td>\n",
       "      <td>3</td>\n",
       "      <td>Tuesday</td>\n",
       "      <td>36</td>\n",
       "    </tr>\n",
       "  </tbody>\n",
       "</table>\n",
       "</div>"
      ],
      "text/plain": [
       "  Accident Date  Year  Month Month_Name  Date        Day  Week\n",
       "0    2019-06-05  2019      6       June     5  Wednesday    23\n",
       "1    2019-07-02  2019      7       July     2    Tuesday    27\n",
       "2    2019-08-26  2019      8     August    26     Monday    35\n",
       "3    2019-08-16  2019      8     August    16     Friday    33\n",
       "4    2019-09-03  2019      9  September     3    Tuesday    36"
      ]
     },
     "execution_count": 272,
     "metadata": {},
     "output_type": "execute_result"
    }
   ],
   "source": [
    "uk_accidents[['Accident Date', 'Year', 'Month', 'Month_Name', 'Date', 'Day', 'Week']].head()"
   ]
  },
  {
   "cell_type": "markdown",
   "id": "b347fe63-a9bd-4302-ae49-27aec0d224a0",
   "metadata": {},
   "source": [
    "<h1 style=\"color:#0d8dfc;\"> DATA ANALYSIS</h1>\n",
    "<hr>"
   ]
  },
  {
   "cell_type": "markdown",
   "id": "868f35ab-6ff5-4bf4-a767-52f1fdcd92df",
   "metadata": {},
   "source": [
    "<h1> DATA AGGREGATION</h1>"
   ]
  },
  {
   "cell_type": "markdown",
   "id": "e8f5d3d0-53f5-4ea9-b4d8-0c88df2009da",
   "metadata": {},
   "source": [
    "<h1> 1. Which district has the highest average number of casualties per accident? </h1>"
   ]
  },
  {
   "cell_type": "code",
   "execution_count": 273,
   "id": "96c8b3e3-1983-4d5e-ab1e-aee1cc0692ca",
   "metadata": {},
   "outputs": [
    {
     "data": {
      "text/html": [
       "<div>\n",
       "<style scoped>\n",
       "    .dataframe tbody tr th:only-of-type {\n",
       "        vertical-align: middle;\n",
       "    }\n",
       "\n",
       "    .dataframe tbody tr th {\n",
       "        vertical-align: top;\n",
       "    }\n",
       "\n",
       "    .dataframe thead th {\n",
       "        text-align: right;\n",
       "    }\n",
       "</style>\n",
       "<table border=\"1\" class=\"dataframe\">\n",
       "  <thead>\n",
       "    <tr style=\"text-align: right;\">\n",
       "      <th></th>\n",
       "      <th>Average_Casualties</th>\n",
       "      <th>Percentage_of_Max</th>\n",
       "    </tr>\n",
       "    <tr>\n",
       "      <th>District Area</th>\n",
       "      <th></th>\n",
       "      <th></th>\n",
       "    </tr>\n",
       "  </thead>\n",
       "  <tbody>\n",
       "    <tr>\n",
       "      <th>Blaeu Gwent</th>\n",
       "      <td>1.693694</td>\n",
       "      <td>100.0%</td>\n",
       "    </tr>\n",
       "    <tr>\n",
       "      <th>West Somerset</th>\n",
       "      <td>1.613990</td>\n",
       "      <td>95.3%</td>\n",
       "    </tr>\n",
       "    <tr>\n",
       "      <th>Derwentside</th>\n",
       "      <td>1.606186</td>\n",
       "      <td>94.8%</td>\n",
       "    </tr>\n",
       "    <tr>\n",
       "      <th>Chester-le-Street</th>\n",
       "      <td>1.603306</td>\n",
       "      <td>94.7%</td>\n",
       "    </tr>\n",
       "    <tr>\n",
       "      <th>Durham</th>\n",
       "      <td>1.580431</td>\n",
       "      <td>93.3%</td>\n",
       "    </tr>\n",
       "  </tbody>\n",
       "</table>\n",
       "</div>"
      ],
      "text/plain": [
       "                   Average_Casualties Percentage_of_Max\n",
       "District Area                                          \n",
       "Blaeu Gwent                  1.693694            100.0%\n",
       "West Somerset                1.613990             95.3%\n",
       "Derwentside                  1.606186             94.8%\n",
       "Chester-le-Street            1.603306             94.7%\n",
       "Durham                       1.580431             93.3%"
      ]
     },
     "execution_count": 273,
     "metadata": {},
     "output_type": "execute_result"
    }
   ],
   "source": [
    "district_casualties = uk_accidents.groupby(\"District Area\")[\"Number_of_Casualties\"].mean()\n",
    "max_value = district_casualties.max()\n",
    "district_casualties_percent = (district_casualties / max_value) * 100\n",
    "result = pd.DataFrame({\n",
    "    \"Average_Casualties\": district_casualties,\n",
    "    \"Percentage_of_Max\": district_casualties_percent\n",
    "}).sort_values(by=\"Average_Casualties\", ascending=False)\n",
    "result[\"Percentage_of_Max\"] = result[\"Percentage_of_Max\"].round(1).astype(str) + \"%\"\n",
    "highest_casualties = result.head(5)\n",
    "\n",
    "highest_casualties"
   ]
  },
  {
   "cell_type": "markdown",
   "id": "81fd9d69-5b5a-4025-91dd-1943ef90db4c",
   "metadata": {},
   "source": [
    "<h1> INSIGHT 1:</h1>\n",
    "<p> This shows that the district with the highest average casualties per accident is Blaeu Gwent, where each crash injures about 1.69 or 100% people on average.</p>"
   ]
  },
  {
   "cell_type": "markdown",
   "id": "15164a00-5320-480e-b1d0-110e082ace94",
   "metadata": {},
   "source": [
    "<h1> 2. Which road type has the highest average number of vehicles involved? </h1>"
   ]
  },
  {
   "cell_type": "code",
   "execution_count": 274,
   "id": "c423a217-f941-4337-9781-9d865c0f2a87",
   "metadata": {},
   "outputs": [
    {
     "data": {
      "text/html": [
       "<div>\n",
       "<style scoped>\n",
       "    .dataframe tbody tr th:only-of-type {\n",
       "        vertical-align: middle;\n",
       "    }\n",
       "\n",
       "    .dataframe tbody tr th {\n",
       "        vertical-align: top;\n",
       "    }\n",
       "\n",
       "    .dataframe thead th {\n",
       "        text-align: right;\n",
       "    }\n",
       "</style>\n",
       "<table border=\"1\" class=\"dataframe\">\n",
       "  <thead>\n",
       "    <tr style=\"text-align: right;\">\n",
       "      <th></th>\n",
       "      <th>Number_of_Vehicles</th>\n",
       "      <th>Percentage_of_Max</th>\n",
       "    </tr>\n",
       "    <tr>\n",
       "      <th>Road_Type</th>\n",
       "      <th></th>\n",
       "      <th></th>\n",
       "    </tr>\n",
       "  </thead>\n",
       "  <tbody>\n",
       "    <tr>\n",
       "      <th>Dual carriageway</th>\n",
       "      <td>2.009766</td>\n",
       "      <td>100.0%</td>\n",
       "    </tr>\n",
       "    <tr>\n",
       "      <th>Slip road</th>\n",
       "      <td>1.917483</td>\n",
       "      <td>95.4%</td>\n",
       "    </tr>\n",
       "    <tr>\n",
       "      <th>Roundabout</th>\n",
       "      <td>1.901323</td>\n",
       "      <td>94.6%</td>\n",
       "    </tr>\n",
       "    <tr>\n",
       "      <th>Single carriageway</th>\n",
       "      <td>1.795911</td>\n",
       "      <td>89.4%</td>\n",
       "    </tr>\n",
       "    <tr>\n",
       "      <th>Unknown</th>\n",
       "      <td>1.674115</td>\n",
       "      <td>83.3%</td>\n",
       "    </tr>\n",
       "    <tr>\n",
       "      <th>One way street</th>\n",
       "      <td>1.585441</td>\n",
       "      <td>78.9%</td>\n",
       "    </tr>\n",
       "  </tbody>\n",
       "</table>\n",
       "</div>"
      ],
      "text/plain": [
       "                    Number_of_Vehicles Percentage_of_Max\n",
       "Road_Type                                               \n",
       "Dual carriageway              2.009766            100.0%\n",
       "Slip road                     1.917483             95.4%\n",
       "Roundabout                    1.901323             94.6%\n",
       "Single carriageway            1.795911             89.4%\n",
       "Unknown                       1.674115             83.3%\n",
       "One way street                1.585441             78.9%"
      ]
     },
     "execution_count": 274,
     "metadata": {},
     "output_type": "execute_result"
    }
   ],
   "source": [
    "road_vehicles = uk_accidents.groupby(\"Road_Type\")[\"Number_of_Vehicles\"].mean() \\\n",
    "    .sort_values(ascending=False) \\\n",
    "    .to_frame()\n",
    "\n",
    "max_value = road_vehicles[\"Number_of_Vehicles\"].max()\n",
    "road_vehicles[\"Percentage_of_Max\"] = (road_vehicles[\"Number_of_Vehicles\"] / max_value * 100).round(1).astype(str) + \"%\"\n",
    "\n",
    "road_vehicles"
   ]
  },
  {
   "cell_type": "markdown",
   "id": "f1ed8d95-d67b-4c84-9a47-dd552edb1bb5",
   "metadata": {},
   "source": [
    "<h1> INSIGHT 2: </h1>\n",
    "<p> This shows that crashes on dual carriageways usually involve the most vehicles, while one-way streets involve the fewest. </p>"
   ]
  },
  {
   "cell_type": "markdown",
   "id": "95adf997-fd60-4d72-a008-79f984132d43",
   "metadata": {},
   "source": [
    "<h1> 3. Which weather condition is linked with the highest average accident severity? </h1>"
   ]
  },
  {
   "cell_type": "code",
   "execution_count": 275,
   "id": "9b892ee2-e2e9-4267-bb94-91e7ba5fcc55",
   "metadata": {},
   "outputs": [
    {
     "data": {
      "text/html": [
       "<div>\n",
       "<style scoped>\n",
       "    .dataframe tbody tr th:only-of-type {\n",
       "        vertical-align: middle;\n",
       "    }\n",
       "\n",
       "    .dataframe tbody tr th {\n",
       "        vertical-align: top;\n",
       "    }\n",
       "\n",
       "    .dataframe thead th {\n",
       "        text-align: right;\n",
       "    }\n",
       "</style>\n",
       "<table border=\"1\" class=\"dataframe\">\n",
       "  <thead>\n",
       "    <tr style=\"text-align: right;\">\n",
       "      <th></th>\n",
       "      <th>Accident_Severity</th>\n",
       "      <th>Percentage_of_Max</th>\n",
       "    </tr>\n",
       "    <tr>\n",
       "      <th>Weather_Conditions</th>\n",
       "      <th></th>\n",
       "      <th></th>\n",
       "    </tr>\n",
       "  </thead>\n",
       "  <tbody>\n",
       "    <tr>\n",
       "      <th>Snowing no high winds</th>\n",
       "      <td>2.897884</td>\n",
       "      <td>100.0%</td>\n",
       "    </tr>\n",
       "    <tr>\n",
       "      <th>Other</th>\n",
       "      <td>2.875743</td>\n",
       "      <td>99.2%</td>\n",
       "    </tr>\n",
       "    <tr>\n",
       "      <th>Snowing + high winds</th>\n",
       "      <td>2.870056</td>\n",
       "      <td>99.0%</td>\n",
       "    </tr>\n",
       "    <tr>\n",
       "      <th>Raining no high winds</th>\n",
       "      <td>2.859918</td>\n",
       "      <td>98.7%</td>\n",
       "    </tr>\n",
       "    <tr>\n",
       "      <th>Raining + high winds</th>\n",
       "      <td>2.838690</td>\n",
       "      <td>98.0%</td>\n",
       "    </tr>\n",
       "    <tr>\n",
       "      <th>Fine no high winds</th>\n",
       "      <td>2.836081</td>\n",
       "      <td>97.9%</td>\n",
       "    </tr>\n",
       "    <tr>\n",
       "      <th>Fog or mist</th>\n",
       "      <td>2.816610</td>\n",
       "      <td>97.2%</td>\n",
       "    </tr>\n",
       "    <tr>\n",
       "      <th>Fine + high winds</th>\n",
       "      <td>2.813538</td>\n",
       "      <td>97.1%</td>\n",
       "    </tr>\n",
       "  </tbody>\n",
       "</table>\n",
       "</div>"
      ],
      "text/plain": [
       "                       Accident_Severity Percentage_of_Max\n",
       "Weather_Conditions                                        \n",
       "Snowing no high winds           2.897884            100.0%\n",
       "Other                           2.875743             99.2%\n",
       "Snowing + high winds            2.870056             99.0%\n",
       "Raining no high winds           2.859918             98.7%\n",
       "Raining + high winds            2.838690             98.0%\n",
       "Fine no high winds              2.836081             97.9%\n",
       "Fog or mist                     2.816610             97.2%\n",
       "Fine + high winds               2.813538             97.1%"
      ]
     },
     "execution_count": 275,
     "metadata": {},
     "output_type": "execute_result"
    }
   ],
   "source": [
    "uk_accidents[\"Accident_Severity\"] = uk_accidents[\"Accident_Severity\"].cat.codes + 1\n",
    "\n",
    "weather_severity = uk_accidents.groupby(\"Weather_Conditions\")[\"Accident_Severity\"].mean() \\\n",
    "    .sort_values(ascending=False) \\\n",
    "    .to_frame()\n",
    "\n",
    "max_value = weather_severity[\"Accident_Severity\"].max()\n",
    "weather_severity[\"Percentage_of_Max\"] = (weather_severity[\"Accident_Severity\"] / max_value * 100).round(1).astype(str) + \"%\"\n",
    "\n",
    "weather_severity"
   ]
  },
  {
   "cell_type": "markdown",
   "id": "5e39c9b2-bc39-4cd5-a395-41b722006b5b",
   "metadata": {},
   "source": [
    "<h1> INSIGHT 3: </h1>\n",
    "<p> This shows that the accidents during snowy conditions or unusual weather “Other” tend to be more severe on average, while fine or foggy weather sees slightly lower severity.</p>"
   ]
  },
  {
   "cell_type": "markdown",
   "id": "b1e2e8f0-7d7c-4de7-95f5-68452110a4d4",
   "metadata": {},
   "source": [
    "<h1> 4. How does the average number of casualties from accidents differ between urban and rural areas? </h1>"
   ]
  },
  {
   "cell_type": "code",
   "execution_count": 276,
   "id": "2d42b9d3-2846-4d50-ab89-b9aeda04da3e",
   "metadata": {},
   "outputs": [
    {
     "data": {
      "text/html": [
       "<div>\n",
       "<style scoped>\n",
       "    .dataframe tbody tr th:only-of-type {\n",
       "        vertical-align: middle;\n",
       "    }\n",
       "\n",
       "    .dataframe tbody tr th {\n",
       "        vertical-align: top;\n",
       "    }\n",
       "\n",
       "    .dataframe thead th {\n",
       "        text-align: right;\n",
       "    }\n",
       "</style>\n",
       "<table border=\"1\" class=\"dataframe\">\n",
       "  <thead>\n",
       "    <tr style=\"text-align: right;\">\n",
       "      <th></th>\n",
       "      <th>Number_of_Casualties</th>\n",
       "      <th>Percentage</th>\n",
       "    </tr>\n",
       "    <tr>\n",
       "      <th>Urban_or_Rural_Area</th>\n",
       "      <th></th>\n",
       "      <th></th>\n",
       "    </tr>\n",
       "  </thead>\n",
       "  <tbody>\n",
       "    <tr>\n",
       "      <th>Rural</th>\n",
       "      <td>1.479204</td>\n",
       "      <td>37.5%</td>\n",
       "    </tr>\n",
       "    <tr>\n",
       "      <th>Urban</th>\n",
       "      <td>1.287807</td>\n",
       "      <td>32.6%</td>\n",
       "    </tr>\n",
       "    <tr>\n",
       "      <th>Unallocated</th>\n",
       "      <td>1.181818</td>\n",
       "      <td>29.9%</td>\n",
       "    </tr>\n",
       "  </tbody>\n",
       "</table>\n",
       "</div>"
      ],
      "text/plain": [
       "                     Number_of_Casualties Percentage\n",
       "Urban_or_Rural_Area                                 \n",
       "Rural                            1.479204      37.5%\n",
       "Urban                            1.287807      32.6%\n",
       "Unallocated                      1.181818      29.9%"
      ]
     },
     "execution_count": 276,
     "metadata": {},
     "output_type": "execute_result"
    }
   ],
   "source": [
    "casualties_mean = uk_accidents.groupby(\"Urban_or_Rural_Area\")[\"Number_of_Casualties\"].mean()\n",
    "casualties_df = casualties_mean.sort_values(ascending=False).to_frame()\n",
    "\n",
    "casualties_df[\"Percentage\"] = (casualties_df[\"Number_of_Casualties\"] /\n",
    "                               casualties_df[\"Number_of_Casualties\"].sum() * 100).round(1)\n",
    "\n",
    "casualties_df[\"Percentage\"] = casualties_df[\"Percentage\"].astype(str) + \"%\"\n",
    "\n",
    "casualties_df\n"
   ]
  },
  {
   "cell_type": "markdown",
   "id": "bad354f5-7b52-4cc1-b75d-c62ec7fe1253",
   "metadata": {},
   "source": [
    "<h1> INSIGHT 4: </h1>\n",
    "<p> This shows that the accidents in rural areas have a higher average number of casualties (37.5%) compared to urban areas (32.6%), with unallocated areas having the lowest average (29.9%). This suggests that rural accidents tend to be more severe, possibly due to higher speeds or less safe road conditions.\n",
    "</p>"
   ]
  },
  {
   "cell_type": "markdown",
   "id": "1311a7d8-1ab9-433d-9e2b-bdd42e04f5d6",
   "metadata": {},
   "source": [
    "<h1> 5. In which light conditions do accidents typically have the highest severity?</h1>"
   ]
  },
  {
   "cell_type": "code",
   "execution_count": 277,
   "id": "a0337c3c-83fc-462d-915f-d8ab72a94100",
   "metadata": {},
   "outputs": [
    {
     "data": {
      "text/html": [
       "<div>\n",
       "<style scoped>\n",
       "    .dataframe tbody tr th:only-of-type {\n",
       "        vertical-align: middle;\n",
       "    }\n",
       "\n",
       "    .dataframe tbody tr th {\n",
       "        vertical-align: top;\n",
       "    }\n",
       "\n",
       "    .dataframe thead th {\n",
       "        text-align: right;\n",
       "    }\n",
       "</style>\n",
       "<table border=\"1\" class=\"dataframe\">\n",
       "  <thead>\n",
       "    <tr style=\"text-align: right;\">\n",
       "      <th></th>\n",
       "      <th>Accident_Severity</th>\n",
       "      <th>Percentage_of_Max</th>\n",
       "    </tr>\n",
       "    <tr>\n",
       "      <th>Light_Conditions</th>\n",
       "      <th></th>\n",
       "      <th></th>\n",
       "    </tr>\n",
       "  </thead>\n",
       "  <tbody>\n",
       "    <tr>\n",
       "      <th>Darkness - lighting unknown</th>\n",
       "      <td>2.856570</td>\n",
       "      <td>100.0%</td>\n",
       "    </tr>\n",
       "    <tr>\n",
       "      <th>Daylight</th>\n",
       "      <td>2.853756</td>\n",
       "      <td>99.9%</td>\n",
       "    </tr>\n",
       "    <tr>\n",
       "      <th>Darkness - lights lit</th>\n",
       "      <td>2.823327</td>\n",
       "      <td>98.8%</td>\n",
       "    </tr>\n",
       "    <tr>\n",
       "      <th>Darkness - lights unlit</th>\n",
       "      <td>2.823044</td>\n",
       "      <td>98.8%</td>\n",
       "    </tr>\n",
       "    <tr>\n",
       "      <th>Darkness - no lighting</th>\n",
       "      <td>2.722253</td>\n",
       "      <td>95.3%</td>\n",
       "    </tr>\n",
       "  </tbody>\n",
       "</table>\n",
       "</div>"
      ],
      "text/plain": [
       "                             Accident_Severity Percentage_of_Max\n",
       "Light_Conditions                                                \n",
       "Darkness - lighting unknown           2.856570            100.0%\n",
       "Daylight                              2.853756             99.9%\n",
       "Darkness - lights lit                 2.823327             98.8%\n",
       "Darkness - lights unlit               2.823044             98.8%\n",
       "Darkness - no lighting                2.722253             95.3%"
      ]
     },
     "execution_count": 277,
     "metadata": {},
     "output_type": "execute_result"
    }
   ],
   "source": [
    "light_severity = uk_accidents.groupby(\"Light_Conditions\")[\"Accident_Severity\"].mean() \\\n",
    "    .sort_values(ascending=False) \\\n",
    "    .to_frame()\n",
    "\n",
    "max_value = light_severity[\"Accident_Severity\"].max()\n",
    "light_severity[\"Percentage_of_Max\"] = (light_severity[\"Accident_Severity\"] / max_value * 100).round(1).astype(str) + \"%\"\n",
    "\n",
    "light_severity"
   ]
  },
  {
   "cell_type": "markdown",
   "id": "663eec7f-faba-48a8-90d7-d7868b00e479",
   "metadata": {},
   "source": [
    "<h1> INSIGHT 5:</h1>\n",
    "<p>This shows that while darkness with unknown lighting(2.86) / 100.0% is linked to the most severe accidents on average, severity differences between lighting conditions are relatively small.</p>"
   ]
  },
  {
   "cell_type": "markdown",
   "id": "05dda75b-0296-4c86-9e95-acd107a0a62a",
   "metadata": {},
   "source": [
    "<hr> \n",
    "<h1> Correlation </h1>"
   ]
  },
  {
   "cell_type": "markdown",
   "id": "27a6e4a5-e7fc-40b6-a798-254af697d8cc",
   "metadata": {},
   "source": [
    "<h1> 6. How is the number of casualties related to the number of vehicles involved in an accident? </h1>"
   ]
  },
  {
   "cell_type": "code",
   "execution_count": 278,
   "id": "25e88416-df01-422e-84d9-d9c79e4f4b8e",
   "metadata": {},
   "outputs": [
    {
     "name": "stdout",
     "output_type": "stream",
     "text": [
      "Correlation: 22.9%\n"
     ]
    }
   ],
   "source": [
    "corr_value = uk_accidents[\"Number_of_Casualties\"].corr(uk_accidents[\"Number_of_Vehicles\"])\n",
    "corr_percentage = round(corr_value * 100, 1)\n",
    "print(f\"Correlation: {corr_percentage}%\")"
   ]
  },
  {
   "cell_type": "markdown",
   "id": "1821ece1-34af-4431-89c2-b17d9877e7ca",
   "metadata": {},
   "source": [
    "<h1> INSIGHT 6: </h1>\n",
    "<p>The number of vehicles involved shows only a weak positive correlation (22.9%) with casualties, meaning accidents with more vehicles tend to have slightly more casualties but the relationship is not strong.\n",
    "</p>"
   ]
  },
  {
   "cell_type": "markdown",
   "id": "5dc343f2-e106-4a92-9b24-5bcb50956774",
   "metadata": {},
   "source": [
    "<h1>7. Does the latitude affect how severe accidents are? </h1>"
   ]
  },
  {
   "cell_type": "code",
   "execution_count": 279,
   "id": "1e2a0fb6-72ff-446e-8f5a-14e90a7eeef8",
   "metadata": {},
   "outputs": [
    {
     "name": "stdout",
     "output_type": "stream",
     "text": [
      "Correlation: -2.6%\n"
     ]
    }
   ],
   "source": [
    "corr_value = uk_accidents[\"Latitude\"].corr(uk_accidents[\"Accident_Severity\"])\n",
    "corr_percentage = round(corr_value * 100, 1)\n",
    "print(f\"Correlation: {corr_percentage}%\")"
   ]
  },
  {
   "cell_type": "markdown",
   "id": "6a594dab-2512-47ce-b361-c38920a01942",
   "metadata": {},
   "source": [
    "<h1>INSIGHT 7:</h1>\n",
    "<p>The correlation between latitude and accident severity is -2.6%, indicating virtually no meaningful relationship, that means severity does not depend on whether accidents occur further north or south.\n",
    "</p>"
   ]
  },
  {
   "cell_type": "markdown",
   "id": "7bdd0d5d-88a7-4c05-b010-b8544ca56a05",
   "metadata": {},
   "source": [
    "<h1> 8. Has the number of casualties changed over time?</h1>"
   ]
  },
  {
   "cell_type": "code",
   "execution_count": 280,
   "id": "10b7fa1f-17fa-4820-a74e-18424197473f",
   "metadata": {},
   "outputs": [
    {
     "name": "stdout",
     "output_type": "stream",
     "text": [
      "Correlation: -0.1%\n"
     ]
    }
   ],
   "source": [
    "uk_accidents[\"Accident Date\"] = pd.to_datetime(uk_accidents[\"Accident Date\"], errors='coerce')\n",
    "uk_accidents = uk_accidents.dropna(subset=[\"Accident Date\"])\n",
    "uk_accidents[\"Date_num\"] = uk_accidents[\"Accident Date\"].map(pd.Timestamp.toordinal)\n",
    "\n",
    "corr_value = uk_accidents[\"Date_num\"].corr(uk_accidents[\"Number_of_Casualties\"])\n",
    "corr_percentage = round(corr_value * 100, 1)\n",
    "print(f\"Correlation: {corr_percentage}%\")"
   ]
  },
  {
   "cell_type": "markdown",
   "id": "79fb286a-215a-4492-9f9c-0c91cf79a530",
   "metadata": {},
   "source": [
    "<h1> INSIGHT 8:</h1>\n",
    "<p>This shows that there is no correlation between accident date and the number of casualties, indicating that the number of casualties has not changed significantly over time.\n",
    "</p>"
   ]
  },
  {
   "cell_type": "markdown",
   "id": "b7d63cf1-2a9f-4c77-90d1-03b0ff3e32ef",
   "metadata": {},
   "source": [
    "<hr>\n",
    "<h1>DESCRIPTIVE</h1>"
   ]
  },
  {
   "cell_type": "markdown",
   "id": "fffc735b-11f5-405a-a36d-55acf44ccc10",
   "metadata": {},
   "source": [
    "<h1>9. Which types of roads are most commonly involved in accidents? </h1>"
   ]
  },
  {
   "cell_type": "code",
   "execution_count": 281,
   "id": "f02bf722-54b6-4c70-bfd2-ccd5daab1b58",
   "metadata": {},
   "outputs": [
    {
     "data": {
      "text/html": [
       "<div>\n",
       "<style scoped>\n",
       "    .dataframe tbody tr th:only-of-type {\n",
       "        vertical-align: middle;\n",
       "    }\n",
       "\n",
       "    .dataframe tbody tr th {\n",
       "        vertical-align: top;\n",
       "    }\n",
       "\n",
       "    .dataframe thead th {\n",
       "        text-align: right;\n",
       "    }\n",
       "</style>\n",
       "<table border=\"1\" class=\"dataframe\">\n",
       "  <thead>\n",
       "    <tr style=\"text-align: right;\">\n",
       "      <th></th>\n",
       "      <th>Count</th>\n",
       "      <th>Percentage</th>\n",
       "    </tr>\n",
       "    <tr>\n",
       "      <th>Road_Type</th>\n",
       "      <th></th>\n",
       "      <th></th>\n",
       "    </tr>\n",
       "  </thead>\n",
       "  <tbody>\n",
       "    <tr>\n",
       "      <th>Single carriageway</th>\n",
       "      <td>492143</td>\n",
       "      <td>74.5%</td>\n",
       "    </tr>\n",
       "    <tr>\n",
       "      <th>Dual carriageway</th>\n",
       "      <td>99424</td>\n",
       "      <td>15.0%</td>\n",
       "    </tr>\n",
       "    <tr>\n",
       "      <th>Roundabout</th>\n",
       "      <td>43992</td>\n",
       "      <td>6.7%</td>\n",
       "    </tr>\n",
       "    <tr>\n",
       "      <th>One way street</th>\n",
       "      <td>13559</td>\n",
       "      <td>2.1%</td>\n",
       "    </tr>\n",
       "    <tr>\n",
       "      <th>Slip road</th>\n",
       "      <td>7041</td>\n",
       "      <td>1.1%</td>\n",
       "    </tr>\n",
       "    <tr>\n",
       "      <th>Unknown</th>\n",
       "      <td>4520</td>\n",
       "      <td>0.7%</td>\n",
       "    </tr>\n",
       "  </tbody>\n",
       "</table>\n",
       "</div>"
      ],
      "text/plain": [
       "                     Count Percentage\n",
       "Road_Type                            \n",
       "Single carriageway  492143      74.5%\n",
       "Dual carriageway     99424      15.0%\n",
       "Roundabout           43992       6.7%\n",
       "One way street       13559       2.1%\n",
       "Slip road             7041       1.1%\n",
       "Unknown               4520       0.7%"
      ]
     },
     "execution_count": 281,
     "metadata": {},
     "output_type": "execute_result"
    }
   ],
   "source": [
    "road_counts = uk_accidents[\"Road_Type\"].value_counts().sort_values(ascending=False).to_frame(name=\"Count\")\n",
    "road_counts[\"Percentage\"] = (road_counts[\"Count\"] / road_counts[\"Count\"].sum() * 100).round(1).astype(str) + \"%\"\n",
    "road_counts"
   ]
  },
  {
   "cell_type": "markdown",
   "id": "c12cf7ff-5949-4eb3-b3cd-d268a9940170",
   "metadata": {},
   "source": [
    "<h1> INSIGHT 9: </h1>\n",
    "<p> This suggests that single carriageways are the most accident-prone, accounting for about 74.5% of all accidents. This may be due to higher traffic density, limited overtaking opportunities, or narrower lanes.</p>"
   ]
  },
  {
   "cell_type": "markdown",
   "id": "606b93ca-a085-499e-ac07-55bcf6c62dfa",
   "metadata": {},
   "source": [
    "<h1> 10. How are accidents distributed between urban and rural areas?</h1>"
   ]
  },
  {
   "cell_type": "code",
   "execution_count": 282,
   "id": "d7527c2f-b301-4c49-b13b-fe29019ee196",
   "metadata": {},
   "outputs": [
    {
     "data": {
      "text/html": [
       "<div>\n",
       "<style scoped>\n",
       "    .dataframe tbody tr th:only-of-type {\n",
       "        vertical-align: middle;\n",
       "    }\n",
       "\n",
       "    .dataframe tbody tr th {\n",
       "        vertical-align: top;\n",
       "    }\n",
       "\n",
       "    .dataframe thead th {\n",
       "        text-align: right;\n",
       "    }\n",
       "</style>\n",
       "<table border=\"1\" class=\"dataframe\">\n",
       "  <thead>\n",
       "    <tr style=\"text-align: right;\">\n",
       "      <th></th>\n",
       "      <th>Count</th>\n",
       "      <th>Percentage</th>\n",
       "    </tr>\n",
       "    <tr>\n",
       "      <th>Urban_or_Rural_Area</th>\n",
       "      <th></th>\n",
       "      <th></th>\n",
       "    </tr>\n",
       "  </thead>\n",
       "  <tbody>\n",
       "    <tr>\n",
       "      <th>Urban</th>\n",
       "      <td>421678</td>\n",
       "      <td>63.8%</td>\n",
       "    </tr>\n",
       "    <tr>\n",
       "      <th>Rural</th>\n",
       "      <td>238990</td>\n",
       "      <td>36.2%</td>\n",
       "    </tr>\n",
       "    <tr>\n",
       "      <th>Unallocated</th>\n",
       "      <td>11</td>\n",
       "      <td>0.0%</td>\n",
       "    </tr>\n",
       "  </tbody>\n",
       "</table>\n",
       "</div>"
      ],
      "text/plain": [
       "                      Count Percentage\n",
       "Urban_or_Rural_Area                   \n",
       "Urban                421678      63.8%\n",
       "Rural                238990      36.2%\n",
       "Unallocated              11       0.0%"
      ]
     },
     "execution_count": 282,
     "metadata": {},
     "output_type": "execute_result"
    }
   ],
   "source": [
    "area_counts = uk_accidents[\"Urban_or_Rural_Area\"].value_counts().to_frame(name=\"Count\")\n",
    "area_counts[\"Percentage\"] = (area_counts[\"Count\"] / area_counts[\"Count\"].sum() * 100).round(1).astype(str) + \"%\"\n",
    "\n",
    "area_counts"
   ]
  },
  {
   "cell_type": "markdown",
   "id": "7bcb43b3-5336-40dd-a86d-793de247399a",
   "metadata": {},
   "source": [
    "<h1>INSIGHT 10: </h1>\n",
    "<p>This indicates that urban environments account for about 63.8% of all accidents, likely due to higher traffic density and more complex road networks. In contrast, rural areas account for 36.2%, and only a negligible share (0.0%) is unallocated.</p>"
   ]
  },
  {
   "cell_type": "markdown",
   "id": "24a9c2b8-eadd-4b57-8f3c-25e4b3618b26",
   "metadata": {},
   "source": [
    "<hr>\n",
    "<h1>(Categorical → Numerical) </h1>"
   ]
  },
  {
   "cell_type": "markdown",
   "id": "f71c9c58-8edb-4a4e-bbbc-6be09b0f6534",
   "metadata": {},
   "source": [
    "<h1>11. Do different road types have different average casualties?</h1>"
   ]
  },
  {
   "cell_type": "code",
   "execution_count": 283,
   "id": "7d45222e-8d13-4d0c-bf1d-13c397632720",
   "metadata": {},
   "outputs": [
    {
     "name": "stdout",
     "output_type": "stream",
     "text": [
      "F-statistic: 667.858, p-value: 0.00000\n"
     ]
    }
   ],
   "source": [
    "groups = [g[\"Number_of_Casualties\"].values for _, g in uk_accidents.groupby(\"Road_Type\")]\n",
    "anova_result = f_oneway(*groups)\n",
    "\n",
    "print(f\"F-statistic: {anova_result.statistic:.3f}, p-value: {anova_result.pvalue:.5f}\")"
   ]
  },
  {
   "cell_type": "markdown",
   "id": "05621cdc-d52d-4280-ab3b-828b6326c7e2",
   "metadata": {},
   "source": [
    "<h1>INSIGHT 11:</h1>\n",
    "<p>This shows that the average number of casualties differs significantly between road types, with some roads, like single carriageways, tending to have more casualties than others.\n",
    "</p>"
   ]
  },
  {
   "cell_type": "markdown",
   "id": "20c3232c-2e3d-499a-8f1d-a628cac8e9a5",
   "metadata": {},
   "source": [
    "<h1> 12.  Does light condition affect the number of vehicles involved? </h1>"
   ]
  },
  {
   "cell_type": "code",
   "execution_count": 284,
   "id": "1f1fadaa-89c1-4faa-ab2a-7cae4bdff11f",
   "metadata": {},
   "outputs": [
    {
     "name": "stdout",
     "output_type": "stream",
     "text": [
      "F-statistic: 1490.443, p-value: 0.000000 (0.0%)\n"
     ]
    }
   ],
   "source": [
    "groups = [g[\"Number_of_Vehicles\"].values for _, g in uk_accidents.groupby(\"Light_Conditions\")]\n",
    "f_stat, p_val = f_oneway(*groups)\n",
    "print(f\"F-statistic: {f_stat:.3f}, p-value: {p_val:.6f} ({round(p_val*100,5)}%)\")\n"
   ]
  },
  {
   "cell_type": "markdown",
   "id": "911c42e1-9e2b-4cc8-a141-b19d2905da1e",
   "metadata": {},
   "source": [
    "<h1> INSIGHT 12:</h1>\n",
    "<p>This shows an extremely strong and highly significant effect, meaning the average number of vehicles involved in accidents differs greatly across light conditions, with the chance of this being random essentially 0%.\n",
    "</p>"
   ]
  },
  {
   "cell_type": "markdown",
   "id": "d3edc7f6-fb89-442b-ad7a-69888aea3ccd",
   "metadata": {},
   "source": [
    "<h1> 13. Do different districts show different casualty numbers? </h1>"
   ]
  },
  {
   "cell_type": "code",
   "execution_count": 285,
   "id": "0fc0e83c-b583-4f8b-8993-426e252b35fc",
   "metadata": {},
   "outputs": [
    {
     "name": "stdout",
     "output_type": "stream",
     "text": [
      "F-statistic: 24.100, p-value: 0.000000\n"
     ]
    }
   ],
   "source": [
    "anova_result = f_oneway(*[g[\"Number_of_Casualties\"].values for _, g in uk_accidents.groupby(\"District Area\")])\n",
    "print(f\"F-statistic: {anova_result.statistic:.3f}, p-value: {anova_result.pvalue:.6f}\")"
   ]
  },
  {
   "cell_type": "markdown",
   "id": "1b6ccfb9-5bc7-4fe6-8922-dd239f8f31bb",
   "metadata": {},
   "source": [
    "<h1>INSIGHT 13: </h1>\n",
    "<p>indicates a statistically significant difference in the average number of casualties across different districts, meaning location (district area) has a clear effect on accident outcomes.</p>"
   ]
  },
  {
   "cell_type": "markdown",
   "id": "33f7a865-9d7a-497f-8857-ff3262b85618",
   "metadata": {},
   "source": [
    "<h1>DESCRIPTIVE COMPARISON </h1>"
   ]
  },
  {
   "cell_type": "markdown",
   "id": "48233050-1e78-4e87-aaa9-a072896dcda3",
   "metadata": {},
   "source": [
    "<h1>14. Which vehicle type is linked to the highest average severity?</h1>"
   ]
  },
  {
   "cell_type": "code",
   "execution_count": 286,
   "id": "c46a27fb-d629-447c-be32-f1053c4d1a78",
   "metadata": {},
   "outputs": [
    {
     "data": {
      "text/html": [
       "<div>\n",
       "<style scoped>\n",
       "    .dataframe tbody tr th:only-of-type {\n",
       "        vertical-align: middle;\n",
       "    }\n",
       "\n",
       "    .dataframe tbody tr th {\n",
       "        vertical-align: top;\n",
       "    }\n",
       "\n",
       "    .dataframe thead th {\n",
       "        text-align: right;\n",
       "    }\n",
       "</style>\n",
       "<table border=\"1\" class=\"dataframe\">\n",
       "  <thead>\n",
       "    <tr style=\"text-align: right;\">\n",
       "      <th></th>\n",
       "      <th>Average_Severity</th>\n",
       "      <th>Percentage_of_Max</th>\n",
       "    </tr>\n",
       "    <tr>\n",
       "      <th>Vehicle_Type</th>\n",
       "      <th></th>\n",
       "      <th></th>\n",
       "    </tr>\n",
       "  </thead>\n",
       "  <tbody>\n",
       "    <tr>\n",
       "      <th>Data missing or out of range</th>\n",
       "      <td>3.000000</td>\n",
       "      <td>100.0%</td>\n",
       "    </tr>\n",
       "    <tr>\n",
       "      <th>Ridden horse</th>\n",
       "      <td>3.000000</td>\n",
       "      <td>100.0%</td>\n",
       "    </tr>\n",
       "    <tr>\n",
       "      <th>Bus or coach (17 or more pass seats)</th>\n",
       "      <td>2.844540</td>\n",
       "      <td>94.8%</td>\n",
       "    </tr>\n",
       "    <tr>\n",
       "      <th>Taxi/Private hire car</th>\n",
       "      <td>2.843463</td>\n",
       "      <td>94.8%</td>\n",
       "    </tr>\n",
       "    <tr>\n",
       "      <th>Motorcycle 125cc and under</th>\n",
       "      <td>2.842229</td>\n",
       "      <td>94.7%</td>\n",
       "    </tr>\n",
       "    <tr>\n",
       "      <th>Motorcycle 50cc and under</th>\n",
       "      <td>2.841641</td>\n",
       "      <td>94.7%</td>\n",
       "    </tr>\n",
       "    <tr>\n",
       "      <th>Goods 7.5 tonnes mgw and over</th>\n",
       "      <td>2.840931</td>\n",
       "      <td>94.7%</td>\n",
       "    </tr>\n",
       "    <tr>\n",
       "      <th>Car</th>\n",
       "      <td>2.840128</td>\n",
       "      <td>94.7%</td>\n",
       "    </tr>\n",
       "    <tr>\n",
       "      <th>Motorcycle over 125cc and up to 500cc</th>\n",
       "      <td>2.840125</td>\n",
       "      <td>94.7%</td>\n",
       "    </tr>\n",
       "    <tr>\n",
       "      <th>Van / Goods 3.5 tonnes mgw or under</th>\n",
       "      <td>2.839344</td>\n",
       "      <td>94.6%</td>\n",
       "    </tr>\n",
       "    <tr>\n",
       "      <th>Other vehicle</th>\n",
       "      <td>2.839099</td>\n",
       "      <td>94.6%</td>\n",
       "    </tr>\n",
       "    <tr>\n",
       "      <th>Motorcycle over 500cc</th>\n",
       "      <td>2.838835</td>\n",
       "      <td>94.6%</td>\n",
       "    </tr>\n",
       "    <tr>\n",
       "      <th>Goods over 3.5t. and under 7.5t</th>\n",
       "      <td>2.837434</td>\n",
       "      <td>94.6%</td>\n",
       "    </tr>\n",
       "    <tr>\n",
       "      <th>Agricultural vehicle</th>\n",
       "      <td>2.833590</td>\n",
       "      <td>94.5%</td>\n",
       "    </tr>\n",
       "    <tr>\n",
       "      <th>Minibus (8 - 16 passenger seats)</th>\n",
       "      <td>2.830972</td>\n",
       "      <td>94.4%</td>\n",
       "    </tr>\n",
       "    <tr>\n",
       "      <th>Pedal cycle</th>\n",
       "      <td>2.741117</td>\n",
       "      <td>91.4%</td>\n",
       "    </tr>\n",
       "  </tbody>\n",
       "</table>\n",
       "</div>"
      ],
      "text/plain": [
       "                                       Average_Severity Percentage_of_Max\n",
       "Vehicle_Type                                                             \n",
       "Data missing or out of range                   3.000000            100.0%\n",
       "Ridden horse                                   3.000000            100.0%\n",
       "Bus or coach (17 or more pass seats)           2.844540             94.8%\n",
       "Taxi/Private hire car                          2.843463             94.8%\n",
       "Motorcycle 125cc and under                     2.842229             94.7%\n",
       "Motorcycle 50cc and under                      2.841641             94.7%\n",
       "Goods 7.5 tonnes mgw and over                  2.840931             94.7%\n",
       "Car                                            2.840128             94.7%\n",
       "Motorcycle over 125cc and up to 500cc          2.840125             94.7%\n",
       "Van / Goods 3.5 tonnes mgw or under            2.839344             94.6%\n",
       "Other vehicle                                  2.839099             94.6%\n",
       "Motorcycle over 500cc                          2.838835             94.6%\n",
       "Goods over 3.5t. and under 7.5t                2.837434             94.6%\n",
       "Agricultural vehicle                           2.833590             94.5%\n",
       "Minibus (8 - 16 passenger seats)               2.830972             94.4%\n",
       "Pedal cycle                                    2.741117             91.4%"
      ]
     },
     "execution_count": 286,
     "metadata": {},
     "output_type": "execute_result"
    }
   ],
   "source": [
    "vehicle_severity = uk_accidents.groupby(\"Vehicle_Type\")[\"Accident_Severity\"].mean() \\\n",
    "    .sort_values(ascending=False) \\\n",
    "    .to_frame(name=\"Average_Severity\")\n",
    "\n",
    "max_value = vehicle_severity[\"Average_Severity\"].max()\n",
    "vehicle_severity[\"Percentage_of_Max\"] = (vehicle_severity[\"Average_Severity\"] / max_value * 100).round(1).astype(str) + \"%\"\n",
    "\n",
    "vehicle_severity"
   ]
  },
  {
   "cell_type": "markdown",
   "id": "36513079-87bf-42b5-bd4f-11338c24e77a",
   "metadata": {},
   "source": [
    "<h1>INSIGHT 14: </h1>\n",
    "<p>This shows that ridden horses and missing data cases have the highest severity. This suggests that motorcycles and mid-sized goods vehicles are linked to more severe accidents, while pedal cycles are the least severe.\n",
    "</p>"
   ]
  },
  {
   "cell_type": "markdown",
   "id": "58dea0bc-442c-4874-9a1b-ede995b49268",
   "metadata": {},
   "source": [
    "<h1> 15. Which road surface leads to the highest casualties?</h1>"
   ]
  },
  {
   "cell_type": "code",
   "execution_count": 287,
   "id": "071e8fd6-1979-4a65-b679-01c3fb7c33e3",
   "metadata": {},
   "outputs": [
    {
     "data": {
      "text/html": [
       "<div>\n",
       "<style scoped>\n",
       "    .dataframe tbody tr th:only-of-type {\n",
       "        vertical-align: middle;\n",
       "    }\n",
       "\n",
       "    .dataframe tbody tr th {\n",
       "        vertical-align: top;\n",
       "    }\n",
       "\n",
       "    .dataframe thead th {\n",
       "        text-align: right;\n",
       "    }\n",
       "</style>\n",
       "<table border=\"1\" class=\"dataframe\">\n",
       "  <thead>\n",
       "    <tr style=\"text-align: right;\">\n",
       "      <th></th>\n",
       "      <th>Number_of_Casualties</th>\n",
       "      <th>Percentage_of_Max</th>\n",
       "    </tr>\n",
       "    <tr>\n",
       "      <th>Road_Surface_Conditions</th>\n",
       "      <th></th>\n",
       "      <th></th>\n",
       "    </tr>\n",
       "  </thead>\n",
       "  <tbody>\n",
       "    <tr>\n",
       "      <th>Flood over 3cm. deep</th>\n",
       "      <td>1.495575</td>\n",
       "      <td>100.0%</td>\n",
       "    </tr>\n",
       "    <tr>\n",
       "      <th>Wet or damp</th>\n",
       "      <td>1.411064</td>\n",
       "      <td>94.3%</td>\n",
       "    </tr>\n",
       "    <tr>\n",
       "      <th>Snow</th>\n",
       "      <td>1.359593</td>\n",
       "      <td>90.9%</td>\n",
       "    </tr>\n",
       "    <tr>\n",
       "      <th>Frost or ice</th>\n",
       "      <td>1.348815</td>\n",
       "      <td>90.2%</td>\n",
       "    </tr>\n",
       "    <tr>\n",
       "      <th>Dry</th>\n",
       "      <td>1.334545</td>\n",
       "      <td>89.2%</td>\n",
       "    </tr>\n",
       "  </tbody>\n",
       "</table>\n",
       "</div>"
      ],
      "text/plain": [
       "                         Number_of_Casualties Percentage_of_Max\n",
       "Road_Surface_Conditions                                        \n",
       "Flood over 3cm. deep                 1.495575            100.0%\n",
       "Wet or damp                          1.411064             94.3%\n",
       "Snow                                 1.359593             90.9%\n",
       "Frost or ice                         1.348815             90.2%\n",
       "Dry                                  1.334545             89.2%"
      ]
     },
     "execution_count": 287,
     "metadata": {},
     "output_type": "execute_result"
    }
   ],
   "source": [
    "road_surface_casualties = uk_accidents.groupby(\"Road_Surface_Conditions\")[\"Number_of_Casualties\"].mean().sort_values(ascending=False).to_frame()\n",
    "road_surface_casualties[\"Percentage_of_Max\"] = (road_surface_casualties[\"Number_of_Casualties\"] / road_surface_casualties[\"Number_of_Casualties\"].max() * 100).round(1).astype(str) + \"%\"\n",
    "\n",
    "road_surface_casualties"
   ]
  },
  {
   "cell_type": "markdown",
   "id": "db41489d-e835-4f1b-890a-673572ca9ff6",
   "metadata": {},
   "source": [
    "<h1>INSIGHT 15:</h1>\n",
    "<p>This shows that roads with flood over 3cm deep have the highest average casualties. This indicates that wet, snowy, or icy conditions also increase casualties, while dry roads have the lowest.</p>"
   ]
  },
  {
   "cell_type": "markdown",
   "id": "0ca45203-7f77-4519-8517-351c3da818a9",
   "metadata": {},
   "source": [
    "<h1>16. What is the trend of average vehicles per accident across different years?</h1>"
   ]
  },
  {
   "cell_type": "code",
   "execution_count": 288,
   "id": "a6c7067d-62d4-4408-81d8-62757134ebf2",
   "metadata": {},
   "outputs": [
    {
     "data": {
      "text/html": [
       "<div>\n",
       "<style scoped>\n",
       "    .dataframe tbody tr th:only-of-type {\n",
       "        vertical-align: middle;\n",
       "    }\n",
       "\n",
       "    .dataframe tbody tr th {\n",
       "        vertical-align: top;\n",
       "    }\n",
       "\n",
       "    .dataframe thead th {\n",
       "        text-align: right;\n",
       "    }\n",
       "</style>\n",
       "<table border=\"1\" class=\"dataframe\">\n",
       "  <thead>\n",
       "    <tr style=\"text-align: right;\">\n",
       "      <th></th>\n",
       "      <th>Average_Vehicles</th>\n",
       "      <th>Percentage_of_Max</th>\n",
       "    </tr>\n",
       "    <tr>\n",
       "      <th>Accident Date</th>\n",
       "      <th></th>\n",
       "      <th></th>\n",
       "    </tr>\n",
       "  </thead>\n",
       "  <tbody>\n",
       "    <tr>\n",
       "      <th>2019</th>\n",
       "      <td>1.839310</td>\n",
       "      <td>100.0%</td>\n",
       "    </tr>\n",
       "    <tr>\n",
       "      <th>2020</th>\n",
       "      <td>1.826615</td>\n",
       "      <td>99.3%</td>\n",
       "    </tr>\n",
       "    <tr>\n",
       "      <th>2021</th>\n",
       "      <td>1.826229</td>\n",
       "      <td>99.3%</td>\n",
       "    </tr>\n",
       "    <tr>\n",
       "      <th>2022</th>\n",
       "      <td>1.832273</td>\n",
       "      <td>99.6%</td>\n",
       "    </tr>\n",
       "  </tbody>\n",
       "</table>\n",
       "</div>"
      ],
      "text/plain": [
       "               Average_Vehicles Percentage_of_Max\n",
       "Accident Date                                    \n",
       "2019                   1.839310            100.0%\n",
       "2020                   1.826615             99.3%\n",
       "2021                   1.826229             99.3%\n",
       "2022                   1.832273             99.6%"
      ]
     },
     "execution_count": 288,
     "metadata": {},
     "output_type": "execute_result"
    }
   ],
   "source": [
    "vehicle_year = uk_accidents.groupby(uk_accidents[\"Accident Date\"].dt.year)[\"Number_of_Vehicles\"].mean().to_frame(name=\"Average_Vehicles\")\n",
    "max_value = vehicle_year[\"Average_Vehicles\"].max()\n",
    "vehicle_year[\"Percentage_of_Max\"] = (vehicle_year[\"Average_Vehicles\"] / max_value * 100).round(1).astype(str) + \"%\"\n",
    "\n",
    "vehicle_year"
   ]
  },
  {
   "cell_type": "markdown",
   "id": "11e8e8eb-4422-46a8-9d17-d3660be18ced",
   "metadata": {},
   "source": [
    "<h1>INSIGHT 16: </h1>\n",
    "<p>This shows that the average number of vehicles per accident has remained fairly stable over time, ranging between 1.82 and 1.84, with only slight fluctuations across the years.</p>"
   ]
  },
  {
   "cell_type": "markdown",
   "id": "4380371b-1796-4c3a-b992-ab58bf79e237",
   "metadata": {},
   "source": [
    "<h1>17. Which accidents involved both motorcycles and high-speed roads (dual carriageways)?</h1>"
   ]
  },
  {
   "cell_type": "code",
   "execution_count": 289,
   "id": "e9a37fc4-4180-4623-8ac6-9d23ae9473ae",
   "metadata": {},
   "outputs": [
    {
     "data": {
      "text/html": [
       "<div>\n",
       "<style scoped>\n",
       "    .dataframe tbody tr th:only-of-type {\n",
       "        vertical-align: middle;\n",
       "    }\n",
       "\n",
       "    .dataframe tbody tr th {\n",
       "        vertical-align: top;\n",
       "    }\n",
       "\n",
       "    .dataframe thead th {\n",
       "        text-align: right;\n",
       "    }\n",
       "</style>\n",
       "<table border=\"1\" class=\"dataframe\">\n",
       "  <thead>\n",
       "    <tr style=\"text-align: right;\">\n",
       "      <th></th>\n",
       "      <th>Count</th>\n",
       "    </tr>\n",
       "    <tr>\n",
       "      <th>Vehicle_Type</th>\n",
       "      <th></th>\n",
       "    </tr>\n",
       "  </thead>\n",
       "  <tbody>\n",
       "    <tr>\n",
       "      <th>Motorcycle over 500cc</th>\n",
       "      <td>3930</td>\n",
       "    </tr>\n",
       "    <tr>\n",
       "      <th>Motorcycle 125cc and under</th>\n",
       "      <td>2228</td>\n",
       "    </tr>\n",
       "    <tr>\n",
       "      <th>Motorcycle over 125cc and up to 500cc</th>\n",
       "      <td>1210</td>\n",
       "    </tr>\n",
       "    <tr>\n",
       "      <th>Motorcycle 50cc and under</th>\n",
       "      <td>1085</td>\n",
       "    </tr>\n",
       "  </tbody>\n",
       "</table>\n",
       "</div>"
      ],
      "text/plain": [
       "                                       Count\n",
       "Vehicle_Type                                \n",
       "Motorcycle over 500cc                   3930\n",
       "Motorcycle 125cc and under              2228\n",
       "Motorcycle over 125cc and up to 500cc   1210\n",
       "Motorcycle 50cc and under               1085"
      ]
     },
     "execution_count": 289,
     "metadata": {},
     "output_type": "execute_result"
    }
   ],
   "source": [
    "motor_summary = motor_highspeed[\"Vehicle_Type\"].value_counts().sort_values(ascending=False).head(4).to_frame(name=\"Count\")\n",
    "motor_summary"
   ]
  },
  {
   "cell_type": "markdown",
   "id": "bac7a084-714b-44ae-b028-a59bf1f9bafc",
   "metadata": {},
   "source": [
    "<h1>INSIGHT 17: </h1>\n",
    "<p>This shows that motorcycles on dual carriageways are involved in accidents, with Motorcycle over 500cc having the highest count, indicating that high-speed roads are riskier for powerful motorcycles.</p>"
   ]
  },
  {
   "cell_type": "markdown",
   "id": "657475cb-452f-46ea-9f82-b22de9e19c50",
   "metadata": {},
   "source": [
    "<h1>18. Are there vehicle types that rarely appear in accidents?</h1>"
   ]
  },
  {
   "cell_type": "code",
   "execution_count": 290,
   "id": "2ed6c355-63ca-441e-8c5f-22bdf77b38dd",
   "metadata": {},
   "outputs": [
    {
     "data": {
      "text/html": [
       "<div>\n",
       "<style scoped>\n",
       "    .dataframe tbody tr th:only-of-type {\n",
       "        vertical-align: middle;\n",
       "    }\n",
       "\n",
       "    .dataframe tbody tr th {\n",
       "        vertical-align: top;\n",
       "    }\n",
       "\n",
       "    .dataframe thead th {\n",
       "        text-align: right;\n",
       "    }\n",
       "</style>\n",
       "<table border=\"1\" class=\"dataframe\">\n",
       "  <thead>\n",
       "    <tr style=\"text-align: right;\">\n",
       "      <th></th>\n",
       "      <th>Count</th>\n",
       "      <th>Percentage</th>\n",
       "    </tr>\n",
       "    <tr>\n",
       "      <th>Vehicle_Type</th>\n",
       "      <th></th>\n",
       "      <th></th>\n",
       "    </tr>\n",
       "  </thead>\n",
       "  <tbody>\n",
       "    <tr>\n",
       "      <th>Ridden horse</th>\n",
       "      <td>4</td>\n",
       "      <td>0.1%</td>\n",
       "    </tr>\n",
       "    <tr>\n",
       "      <th>Data missing or out of range</th>\n",
       "      <td>6</td>\n",
       "      <td>0.1%</td>\n",
       "    </tr>\n",
       "    <tr>\n",
       "      <th>Pedal cycle</th>\n",
       "      <td>197</td>\n",
       "      <td>4.8%</td>\n",
       "    </tr>\n",
       "    <tr>\n",
       "      <th>Agricultural vehicle</th>\n",
       "      <td>1947</td>\n",
       "      <td>47.1%</td>\n",
       "    </tr>\n",
       "    <tr>\n",
       "      <th>Minibus (8 - 16 passenger seats)</th>\n",
       "      <td>1976</td>\n",
       "      <td>47.8%</td>\n",
       "    </tr>\n",
       "  </tbody>\n",
       "</table>\n",
       "</div>"
      ],
      "text/plain": [
       "                                  Count Percentage\n",
       "Vehicle_Type                                      \n",
       "Ridden horse                          4       0.1%\n",
       "Data missing or out of range          6       0.1%\n",
       "Pedal cycle                         197       4.8%\n",
       "Agricultural vehicle               1947      47.1%\n",
       "Minibus (8 - 16 passenger seats)   1976      47.8%"
      ]
     },
     "execution_count": 290,
     "metadata": {},
     "output_type": "execute_result"
    }
   ],
   "source": [
    "rare = uk_accidents[\"Vehicle_Type\"].value_counts().nsmallest(5).to_frame(name=\"Count\")\n",
    "total = rare[\"Count\"].sum()\n",
    "rare[\"Percentage\"] = (rare[\"Count\"] / total * 100).round(1).astype(str) + \"%\"\n",
    "rare"
   ]
  },
  {
   "cell_type": "markdown",
   "id": "f67e4a2f-149f-465c-b573-8ebe1145368c",
   "metadata": {},
   "source": [
    "<h1>INSIGHT 18: </h1>\n",
    "<p>This shows that ridden horse and pedal cycle are involved in fewer accidents, indicating these vehicles are less common on accident-prone roads.</p>"
   ]
  },
  {
   "cell_type": "markdown",
   "id": "c4b15f27-6e49-4442-b804-1ff49bd5106c",
   "metadata": {},
   "source": [
    "<h1> 19. Which light condition occurs least often in accidents?</h1>"
   ]
  },
  {
   "cell_type": "code",
   "execution_count": 291,
   "id": "1414f163-b617-4c3f-ac4c-e4adb4aa08dc",
   "metadata": {},
   "outputs": [
    {
     "data": {
      "text/html": [
       "<div>\n",
       "<style scoped>\n",
       "    .dataframe tbody tr th:only-of-type {\n",
       "        vertical-align: middle;\n",
       "    }\n",
       "\n",
       "    .dataframe tbody tr th {\n",
       "        vertical-align: top;\n",
       "    }\n",
       "\n",
       "    .dataframe thead th {\n",
       "        text-align: right;\n",
       "    }\n",
       "</style>\n",
       "<table border=\"1\" class=\"dataframe\">\n",
       "  <thead>\n",
       "    <tr style=\"text-align: right;\">\n",
       "      <th></th>\n",
       "      <th>Count</th>\n",
       "      <th>Percentage</th>\n",
       "    </tr>\n",
       "    <tr>\n",
       "      <th>Light_Conditions</th>\n",
       "      <th></th>\n",
       "      <th></th>\n",
       "    </tr>\n",
       "  </thead>\n",
       "  <tbody>\n",
       "    <tr>\n",
       "      <th>Darkness - lights unlit</th>\n",
       "      <td>2543</td>\n",
       "      <td>0.4%</td>\n",
       "    </tr>\n",
       "    <tr>\n",
       "      <th>Darkness - lighting unknown</th>\n",
       "      <td>6484</td>\n",
       "      <td>1.0%</td>\n",
       "    </tr>\n",
       "    <tr>\n",
       "      <th>Darkness - no lighting</th>\n",
       "      <td>37437</td>\n",
       "      <td>5.7%</td>\n",
       "    </tr>\n",
       "    <tr>\n",
       "      <th>Darkness - lights lit</th>\n",
       "      <td>129335</td>\n",
       "      <td>19.6%</td>\n",
       "    </tr>\n",
       "    <tr>\n",
       "      <th>Daylight</th>\n",
       "      <td>484880</td>\n",
       "      <td>73.4%</td>\n",
       "    </tr>\n",
       "  </tbody>\n",
       "</table>\n",
       "</div>"
      ],
      "text/plain": [
       "                              Count Percentage\n",
       "Light_Conditions                              \n",
       "Darkness - lights unlit        2543       0.4%\n",
       "Darkness - lighting unknown    6484       1.0%\n",
       "Darkness - no lighting        37437       5.7%\n",
       "Darkness - lights lit        129335      19.6%\n",
       "Daylight                     484880      73.4%"
      ]
     },
     "execution_count": 291,
     "metadata": {},
     "output_type": "execute_result"
    }
   ],
   "source": [
    "light_counts = uk_accidents[\"Light_Conditions\"].value_counts().nsmallest(5).to_frame(name=\"Count\")\n",
    "total = uk_accidents[\"Light_Conditions\"].shape[0]\n",
    "light_counts[\"Percentage\"] = (light_counts[\"Count\"] / total * 100).round(1).astype(str) + \"%\"\n",
    "light_counts"
   ]
  },
  {
   "cell_type": "markdown",
   "id": "75157545-6da4-4861-94e7-285bab03d985",
   "metadata": {},
   "source": [
    "<h1>INSIGHT 19: </h1>\n",
    "<p>This shows that darkness with lights unlit is the least common accident scenario, suggesting most accidents happen under some level of visibility.</p>"
   ]
  },
  {
   "cell_type": "markdown",
   "id": "e820a4d6-4b4b-4d24-ae4b-690ae0605bb4",
   "metadata": {},
   "source": [
    "<h1>20. Which road types have the most accidents at night?</h1>"
   ]
  },
  {
   "cell_type": "code",
   "execution_count": 292,
   "id": "ba0f8e2f-a41b-465a-97a1-af738d4e0569",
   "metadata": {},
   "outputs": [
    {
     "data": {
      "text/html": [
       "<div>\n",
       "<style scoped>\n",
       "    .dataframe tbody tr th:only-of-type {\n",
       "        vertical-align: middle;\n",
       "    }\n",
       "\n",
       "    .dataframe tbody tr th {\n",
       "        vertical-align: top;\n",
       "    }\n",
       "\n",
       "    .dataframe thead th {\n",
       "        text-align: right;\n",
       "    }\n",
       "</style>\n",
       "<table border=\"1\" class=\"dataframe\">\n",
       "  <thead>\n",
       "    <tr style=\"text-align: right;\">\n",
       "      <th></th>\n",
       "      <th>Count</th>\n",
       "      <th>Percentage</th>\n",
       "    </tr>\n",
       "    <tr>\n",
       "      <th>Road_Type</th>\n",
       "      <th></th>\n",
       "      <th></th>\n",
       "    </tr>\n",
       "  </thead>\n",
       "  <tbody>\n",
       "    <tr>\n",
       "      <th>Single carriageway</th>\n",
       "      <td>128878</td>\n",
       "      <td>73.3%</td>\n",
       "    </tr>\n",
       "    <tr>\n",
       "      <th>Dual carriageway</th>\n",
       "      <td>29072</td>\n",
       "      <td>16.5%</td>\n",
       "    </tr>\n",
       "    <tr>\n",
       "      <th>Roundabout</th>\n",
       "      <td>11411</td>\n",
       "      <td>6.5%</td>\n",
       "    </tr>\n",
       "    <tr>\n",
       "      <th>One way street</th>\n",
       "      <td>3595</td>\n",
       "      <td>2.0%</td>\n",
       "    </tr>\n",
       "    <tr>\n",
       "      <th>Slip road</th>\n",
       "      <td>1792</td>\n",
       "      <td>1.0%</td>\n",
       "    </tr>\n",
       "    <tr>\n",
       "      <th>Unknown</th>\n",
       "      <td>1051</td>\n",
       "      <td>0.6%</td>\n",
       "    </tr>\n",
       "  </tbody>\n",
       "</table>\n",
       "</div>"
      ],
      "text/plain": [
       "                     Count Percentage\n",
       "Road_Type                            \n",
       "Single carriageway  128878      73.3%\n",
       "Dual carriageway     29072      16.5%\n",
       "Roundabout           11411       6.5%\n",
       "One way street        3595       2.0%\n",
       "Slip road             1792       1.0%\n",
       "Unknown               1051       0.6%"
      ]
     },
     "execution_count": 292,
     "metadata": {},
     "output_type": "execute_result"
    }
   ],
   "source": [
    "dark_road_counts = uk_accidents[uk_accidents[\"Light_Conditions\"].str.contains(\"Darkness\")][\"Road_Type\"].value_counts().to_frame(name=\"Count\")\n",
    "total = dark_road_counts[\"Count\"].sum()\n",
    "dark_road_counts[\"Percentage\"] = (dark_road_counts[\"Count\"] / total * 100).round(1).astype(str) + \"%\"\n",
    "\n",
    "dark_road_counts\n"
   ]
  },
  {
   "cell_type": "markdown",
   "id": "325986d9-041d-4875-875c-ed8bcb0402ad",
   "metadata": {},
   "source": [
    "<h1>INSIGHT 20: </h1>\n",
    "<p>This shows that single carriageways have the most accidents at night (73.7%), followed by dual carriageways (16.6%) and roundabouts (6.5%), indicating that these roads are more prone to nighttime accidents.</p>"
   ]
  },
  {
   "cell_type": "markdown",
   "id": "f9588ca1-b10d-417b-a43f-576a859611c4",
   "metadata": {},
   "source": [
    "<h1> 21. Which year and month recorded the highest number of accidents? </h1>"
   ]
  },
  {
   "cell_type": "code",
   "execution_count": 293,
   "id": "9fabbd4c-5cf1-463b-8560-34272af2e053",
   "metadata": {},
   "outputs": [
    {
     "data": {
      "text/html": [
       "<div>\n",
       "<style scoped>\n",
       "    .dataframe tbody tr th:only-of-type {\n",
       "        vertical-align: middle;\n",
       "    }\n",
       "\n",
       "    .dataframe tbody tr th {\n",
       "        vertical-align: top;\n",
       "    }\n",
       "\n",
       "    .dataframe thead th {\n",
       "        text-align: right;\n",
       "    }\n",
       "</style>\n",
       "<table border=\"1\" class=\"dataframe\">\n",
       "  <thead>\n",
       "    <tr style=\"text-align: right;\">\n",
       "      <th></th>\n",
       "      <th></th>\n",
       "      <th>Count</th>\n",
       "    </tr>\n",
       "    <tr>\n",
       "      <th>Year</th>\n",
       "      <th>Month</th>\n",
       "      <th></th>\n",
       "    </tr>\n",
       "  </thead>\n",
       "  <tbody>\n",
       "    <tr>\n",
       "      <th rowspan=\"3\" valign=\"top\">2019</th>\n",
       "      <th>November</th>\n",
       "      <td>16559</td>\n",
       "    </tr>\n",
       "    <tr>\n",
       "      <th>July</th>\n",
       "      <td>15862</td>\n",
       "    </tr>\n",
       "    <tr>\n",
       "      <th>May</th>\n",
       "      <td>15833</td>\n",
       "    </tr>\n",
       "    <tr>\n",
       "      <th>2020</th>\n",
       "      <th>October</th>\n",
       "      <td>15684</td>\n",
       "    </tr>\n",
       "    <tr>\n",
       "      <th>2019</th>\n",
       "      <th>October</th>\n",
       "      <td>15528</td>\n",
       "    </tr>\n",
       "  </tbody>\n",
       "</table>\n",
       "</div>"
      ],
      "text/plain": [
       "               Count\n",
       "Year Month          \n",
       "2019 November  16559\n",
       "     July      15862\n",
       "     May       15833\n",
       "2020 October   15684\n",
       "2019 October   15528"
      ]
     },
     "execution_count": 293,
     "metadata": {},
     "output_type": "execute_result"
    }
   ],
   "source": [
    "uk_accidents[\"Accident Date\"] = pd.to_datetime(uk_accidents[\"Accident Date\"])\n",
    "uk_accidents[\"Year\"] = uk_accidents[\"Accident Date\"].dt.year\n",
    "uk_accidents[\"Month\"] = uk_accidents[\"Accident Date\"].dt.month_name()\n",
    "\n",
    "year_month_counts = uk_accidents.groupby([\"Year\", \"Month\"]).size().to_frame(name=\"Count\")\n",
    "highest_accident_period = year_month_counts.sort_values(by=\"Count\", ascending=False).head(5)\n",
    "\n",
    "highest_accident_period"
   ]
  },
  {
   "cell_type": "markdown",
   "id": "eed8cddc-f4eb-4787-ba78-b6a13df14f0d",
   "metadata": {},
   "source": [
    "<h1> INSIGHT 21:  </h1>\n",
    "<p>The highest number of accidents occurred in November 2019 (16,559 cases). This spike may be linked to holiday-related travel and gatherings, alongside seasonal factors like shorter days and adverse weather.</p>"
   ]
  },
  {
   "cell_type": "markdown",
   "id": "b1cdfeea-3a8a-44ee-9020-a13b373ac410",
   "metadata": {},
   "source": [
    "<h1>22. Which day of the week in November records the most accidents?</h1>"
   ]
  },
  {
   "cell_type": "code",
   "execution_count": 294,
   "id": "bf66508c-37d3-4c32-9c0f-35a444e4c33b",
   "metadata": {},
   "outputs": [
    {
     "data": {
      "text/html": [
       "<div>\n",
       "<style scoped>\n",
       "    .dataframe tbody tr th:only-of-type {\n",
       "        vertical-align: middle;\n",
       "    }\n",
       "\n",
       "    .dataframe tbody tr th {\n",
       "        vertical-align: top;\n",
       "    }\n",
       "\n",
       "    .dataframe thead th {\n",
       "        text-align: right;\n",
       "    }\n",
       "</style>\n",
       "<table border=\"1\" class=\"dataframe\">\n",
       "  <thead>\n",
       "    <tr style=\"text-align: right;\">\n",
       "      <th></th>\n",
       "      <th>Accident_Count</th>\n",
       "      <th>Percentage</th>\n",
       "    </tr>\n",
       "    <tr>\n",
       "      <th>Day_Name</th>\n",
       "      <th></th>\n",
       "      <th></th>\n",
       "    </tr>\n",
       "  </thead>\n",
       "  <tbody>\n",
       "    <tr>\n",
       "      <th>Monday</th>\n",
       "      <td>6389</td>\n",
       "      <td>10.6%</td>\n",
       "    </tr>\n",
       "    <tr>\n",
       "      <th>Tuesday</th>\n",
       "      <td>9224</td>\n",
       "      <td>15.3%</td>\n",
       "    </tr>\n",
       "    <tr>\n",
       "      <th>Wednesday</th>\n",
       "      <td>9337</td>\n",
       "      <td>15.5%</td>\n",
       "    </tr>\n",
       "    <tr>\n",
       "      <th>Thursday</th>\n",
       "      <td>8361</td>\n",
       "      <td>13.8%</td>\n",
       "    </tr>\n",
       "    <tr>\n",
       "      <th>Friday</th>\n",
       "      <td>9089</td>\n",
       "      <td>15.0%</td>\n",
       "    </tr>\n",
       "    <tr>\n",
       "      <th>Saturday</th>\n",
       "      <td>10301</td>\n",
       "      <td>17.0%</td>\n",
       "    </tr>\n",
       "    <tr>\n",
       "      <th>Sunday</th>\n",
       "      <td>7723</td>\n",
       "      <td>12.8%</td>\n",
       "    </tr>\n",
       "  </tbody>\n",
       "</table>\n",
       "</div>"
      ],
      "text/plain": [
       "           Accident_Count Percentage\n",
       "Day_Name                            \n",
       "Monday               6389      10.6%\n",
       "Tuesday              9224      15.3%\n",
       "Wednesday            9337      15.5%\n",
       "Thursday             8361      13.8%\n",
       "Friday               9089      15.0%\n",
       "Saturday            10301      17.0%\n",
       "Sunday               7723      12.8%"
      ]
     },
     "execution_count": 294,
     "metadata": {},
     "output_type": "execute_result"
    }
   ],
   "source": [
    "uk_accidents[\"Accident Date\"] = pd.to_datetime(uk_accidents[\"Accident Date\"])\n",
    "november_data = uk_accidents[uk_accidents[\"Accident Date\"].dt.month == 11].copy()\n",
    "\n",
    "november_data[\"Day_Name\"] = november_data[\"Accident Date\"].dt.day_name()\n",
    "november_counts = november_data.groupby(\"Day_Name\").size().to_frame(name=\"Accident_Count\")\n",
    "\n",
    "total_accidents = november_counts[\"Accident_Count\"].sum()\n",
    "november_counts[\"Percentage\"] = (november_counts[\"Accident_Count\"] / total_accidents * 100).round(1).astype(str) + \"%\"\n",
    "\n",
    "day_order = [\"Monday\", \"Tuesday\", \"Wednesday\", \"Thursday\", \"Friday\", \"Saturday\", \"Sunday\"]\n",
    "november_counts = november_counts.reindex(day_order)\n",
    "\n",
    "november_counts"
   ]
  },
  {
   "cell_type": "markdown",
   "id": "febdd3c6-3987-4ba8-8b8a-e3d74646ea43",
   "metadata": {},
   "source": [
    "<h1> INSIGHT 22: </h1>\n",
    "<p>The analysis shows that Saturday has the highest number of accidents in November, with 10,301(17%) cases. This suggests weekends may be more accident-prone, possibly due to increased leisure travel, social activities, and late-night driving.</p>"
   ]
  },
  {
   "cell_type": "markdown",
   "id": "45d61883-2275-4e3e-970a-60c540fad0e6",
   "metadata": {},
   "source": [
    "<h1> UNIVARIATE: ANALYSIS OF VEHICLE TYPE IN 2022</h1>\n",
    "<hr>"
   ]
  },
  {
   "cell_type": "markdown",
   "id": "ccbc2f5f-fe7c-451b-bf7b-085dd5186193",
   "metadata": {},
   "source": [
    "<h1> 23. Which are the top 3 vehicle types most commonly involved in accidents in 2022?</h1>"
   ]
  },
  {
   "cell_type": "code",
   "execution_count": 295,
   "id": "2e818299-4614-423b-8870-154fd22d773c",
   "metadata": {},
   "outputs": [],
   "source": [
    "accidents_2022 = uk_accidents[uk_accidents[\"Year\"] == 2022]"
   ]
  },
  {
   "cell_type": "code",
   "execution_count": 296,
   "id": "94c06a53-ee16-4f6b-9368-f9d939fd74a0",
   "metadata": {},
   "outputs": [
    {
     "data": {
      "text/html": [
       "<div>\n",
       "<style scoped>\n",
       "    .dataframe tbody tr th:only-of-type {\n",
       "        vertical-align: middle;\n",
       "    }\n",
       "\n",
       "    .dataframe tbody tr th {\n",
       "        vertical-align: top;\n",
       "    }\n",
       "\n",
       "    .dataframe thead th {\n",
       "        text-align: right;\n",
       "    }\n",
       "</style>\n",
       "<table border=\"1\" class=\"dataframe\">\n",
       "  <thead>\n",
       "    <tr style=\"text-align: right;\">\n",
       "      <th></th>\n",
       "      <th>Vehicle_Type</th>\n",
       "      <th>Accident_Count</th>\n",
       "      <th>Percentage_of_2022</th>\n",
       "    </tr>\n",
       "  </thead>\n",
       "  <tbody>\n",
       "    <tr>\n",
       "      <th>0</th>\n",
       "      <td>Car</td>\n",
       "      <td>111768</td>\n",
       "      <td>84.3</td>\n",
       "    </tr>\n",
       "    <tr>\n",
       "      <th>1</th>\n",
       "      <td>Van / Goods 3.5 tonnes mgw or under</td>\n",
       "      <td>7589</td>\n",
       "      <td>5.7</td>\n",
       "    </tr>\n",
       "    <tr>\n",
       "      <th>2</th>\n",
       "      <td>Motorcycle over 500cc</td>\n",
       "      <td>5116</td>\n",
       "      <td>3.9</td>\n",
       "    </tr>\n",
       "    <tr>\n",
       "      <th>3</th>\n",
       "      <td>Bus or coach (17 or more pass seats)</td>\n",
       "      <td>4531</td>\n",
       "      <td>3.4</td>\n",
       "    </tr>\n",
       "    <tr>\n",
       "      <th>4</th>\n",
       "      <td>Motorcycle 125cc and under</td>\n",
       "      <td>3579</td>\n",
       "      <td>2.7</td>\n",
       "    </tr>\n",
       "  </tbody>\n",
       "</table>\n",
       "</div>"
      ],
      "text/plain": [
       "                           Vehicle_Type  Accident_Count  Percentage_of_2022\n",
       "0                                   Car          111768                84.3\n",
       "1   Van / Goods 3.5 tonnes mgw or under            7589                 5.7\n",
       "2                 Motorcycle over 500cc            5116                 3.9\n",
       "3  Bus or coach (17 or more pass seats)            4531                 3.4\n",
       "4            Motorcycle 125cc and under            3579                 2.7"
      ]
     },
     "execution_count": 296,
     "metadata": {},
     "output_type": "execute_result"
    }
   ],
   "source": [
    "vehicle_counts_2022 = accidents_2022[\"Vehicle_Type\"].value_counts().head(5)\n",
    "vehicle_percent_2022 = (vehicle_counts_2022 / vehicle_counts_2022.sum() * 100).round(1)\n",
    "\n",
    "vehicle_table_2022 = pd.DataFrame({\n",
    "    \"Accident_Count\": vehicle_counts_2022,\n",
    "    \"Percentage_of_2022\": vehicle_percent_2022\n",
    "}).reset_index().rename(columns={\"index\": \"Vehicle_Type\"})\n",
    "\n",
    "vehicle_table_2022"
   ]
  },
  {
   "cell_type": "markdown",
   "id": "39b29afc-9e68-4ffc-85fd-3238d5b267e4",
   "metadata": {},
   "source": [
    "<h1> INSIGHT 23: </h1>\n",
    "<p>The analysis shows that the top 3 vehicle types most commonly involved in accidents in 2022 are <strong>cars</strong> (84.3%), followed by <strong>vans under 3.5 tonnes</strong> (5.7%) and <strong>motorcycles over 500cc</strong> (3.9%). \n",
    "This indicates that cars are by far the most frequent vehicle involved in accidents, likely due to their prevalence on the roads, while smaller numbers involve larger vehicles and high-powered motorcycles.</p>\n"
   ]
  },
  {
   "cell_type": "markdown",
   "id": "ecd977fa-713e-44fa-90c0-12ba9d94c807",
   "metadata": {},
   "source": [
    "<h1> BIVARIATE: VEHICLE TYPE vs ROAD TYPE</h1>\n",
    "<hr>"
   ]
  },
  {
   "cell_type": "markdown",
   "id": "3f7ac93d-575f-4a56-bc01-1f7db041edec",
   "metadata": {},
   "source": [
    "<h1>24. On which road types are motorcycles accidents most common?</h1>"
   ]
  },
  {
   "cell_type": "code",
   "execution_count": 297,
   "id": "16412e53-bcc8-40a1-b791-af6daff93d5e",
   "metadata": {},
   "outputs": [
    {
     "data": {
      "text/html": [
       "<div>\n",
       "<style scoped>\n",
       "    .dataframe tbody tr th:only-of-type {\n",
       "        vertical-align: middle;\n",
       "    }\n",
       "\n",
       "    .dataframe tbody tr th {\n",
       "        vertical-align: top;\n",
       "    }\n",
       "\n",
       "    .dataframe thead th {\n",
       "        text-align: right;\n",
       "    }\n",
       "</style>\n",
       "<table border=\"1\" class=\"dataframe\">\n",
       "  <thead>\n",
       "    <tr style=\"text-align: right;\">\n",
       "      <th>Road_Type</th>\n",
       "      <th>Dual carriageway</th>\n",
       "      <th>One way street</th>\n",
       "      <th>Roundabout</th>\n",
       "      <th>Single carriageway</th>\n",
       "      <th>Slip road</th>\n",
       "      <th>Unknown</th>\n",
       "    </tr>\n",
       "    <tr>\n",
       "      <th>Vehicle_Type</th>\n",
       "      <th></th>\n",
       "      <th></th>\n",
       "      <th></th>\n",
       "      <th></th>\n",
       "      <th></th>\n",
       "      <th></th>\n",
       "    </tr>\n",
       "  </thead>\n",
       "  <tbody>\n",
       "    <tr>\n",
       "      <th>Motorcycle 125cc and under</th>\n",
       "      <td>14.6</td>\n",
       "      <td>2.0</td>\n",
       "      <td>6.5</td>\n",
       "      <td>75.4</td>\n",
       "      <td>1.0</td>\n",
       "      <td>0.6</td>\n",
       "    </tr>\n",
       "    <tr>\n",
       "      <th>Motorcycle 50cc and under</th>\n",
       "      <td>14.3</td>\n",
       "      <td>1.7</td>\n",
       "      <td>6.7</td>\n",
       "      <td>75.5</td>\n",
       "      <td>1.2</td>\n",
       "      <td>0.5</td>\n",
       "    </tr>\n",
       "    <tr>\n",
       "      <th>Motorcycle over 125cc and up to 500cc</th>\n",
       "      <td>15.8</td>\n",
       "      <td>2.0</td>\n",
       "      <td>6.4</td>\n",
       "      <td>73.9</td>\n",
       "      <td>1.3</td>\n",
       "      <td>0.5</td>\n",
       "    </tr>\n",
       "    <tr>\n",
       "      <th>Motorcycle over 500cc</th>\n",
       "      <td>15.3</td>\n",
       "      <td>1.9</td>\n",
       "      <td>6.8</td>\n",
       "      <td>74.2</td>\n",
       "      <td>1.1</td>\n",
       "      <td>0.6</td>\n",
       "    </tr>\n",
       "  </tbody>\n",
       "</table>\n",
       "</div>"
      ],
      "text/plain": [
       "Road_Type                              Dual carriageway  One way street  \\\n",
       "Vehicle_Type                                                              \n",
       "Motorcycle 125cc and under                         14.6             2.0   \n",
       "Motorcycle 50cc and under                          14.3             1.7   \n",
       "Motorcycle over 125cc and up to 500cc              15.8             2.0   \n",
       "Motorcycle over 500cc                              15.3             1.9   \n",
       "\n",
       "Road_Type                              Roundabout  Single carriageway  \\\n",
       "Vehicle_Type                                                            \n",
       "Motorcycle 125cc and under                    6.5                75.4   \n",
       "Motorcycle 50cc and under                     6.7                75.5   \n",
       "Motorcycle over 125cc and up to 500cc         6.4                73.9   \n",
       "Motorcycle over 500cc                         6.8                74.2   \n",
       "\n",
       "Road_Type                              Slip road  Unknown  \n",
       "Vehicle_Type                                               \n",
       "Motorcycle 125cc and under                   1.0      0.6  \n",
       "Motorcycle 50cc and under                    1.2      0.5  \n",
       "Motorcycle over 125cc and up to 500cc        1.3      0.5  \n",
       "Motorcycle over 500cc                        1.1      0.6  "
      ]
     },
     "execution_count": 297,
     "metadata": {},
     "output_type": "execute_result"
    }
   ],
   "source": [
    "motorcycle_accidents = uk_accidents[uk_accidents[\"Vehicle_Type\"].str.contains(\"Motorcycle\")]\n",
    "\n",
    "motorcycle_road_percent = pd.crosstab(\n",
    "    motorcycle_accidents[\"Vehicle_Type\"],\n",
    "    motorcycle_accidents[\"Road_Type\"],\n",
    "    normalize='index'\n",
    ") * 100\n",
    "\n",
    "motorcycle_road_percent = motorcycle_road_percent.round(1)\n",
    "motorcycle_road_percent"
   ]
  },
  {
   "cell_type": "markdown",
   "id": "cf4f504b-88e1-458f-abc1-4eb6d35651ac",
   "metadata": {},
   "source": [
    "<h1> INSIGHT 24: </h1>\n",
    "<p>All motorcycle types have the majority of accidents on <strong>single carriageways</strong> (74–76%), followed by <strong>dual carriageways</strong> (14–16%) and roundabouts (6–7%). Very few accidents occur on one-way streets, slip roads, or unknown road types. \n",
    "This highlights that motorcycles are most at risk on rural or high-speed roads.</p>\n"
   ]
  },
  {
   "cell_type": "markdown",
   "id": "47b3438d-3ba2-4a6e-baa0-bbbaf502c78c",
   "metadata": {},
   "source": [
    "<h1> MULTIVARIATE: ACCIDENT DATE, WEATHER CONDITIONS AND NUMBER OF CASUALTIES</h1>\n",
    "<hr>"
   ]
  },
  {
   "cell_type": "markdown",
   "id": "d69a2ce0-7607-4118-ba74-062a5ff71ae6",
   "metadata": {},
   "source": [
    "<h1> 25. Which month and weather condition combination results in the highest average casualties per accident?</h1>"
   ]
  },
  {
   "cell_type": "code",
   "execution_count": 298,
   "id": "00e654a3-eba9-41c5-ade7-7abd0bec0c80",
   "metadata": {},
   "outputs": [
    {
     "data": {
      "text/html": [
       "<div>\n",
       "<style scoped>\n",
       "    .dataframe tbody tr th:only-of-type {\n",
       "        vertical-align: middle;\n",
       "    }\n",
       "\n",
       "    .dataframe tbody tr th {\n",
       "        vertical-align: top;\n",
       "    }\n",
       "\n",
       "    .dataframe thead th {\n",
       "        text-align: right;\n",
       "    }\n",
       "</style>\n",
       "<table border=\"1\" class=\"dataframe\">\n",
       "  <thead>\n",
       "    <tr style=\"text-align: right;\">\n",
       "      <th></th>\n",
       "      <th>Month</th>\n",
       "      <th>Weather_Conditions</th>\n",
       "      <th>Average_Casualties</th>\n",
       "      <th>Percentage_of_Max</th>\n",
       "    </tr>\n",
       "  </thead>\n",
       "  <tbody>\n",
       "    <tr>\n",
       "      <th>14</th>\n",
       "      <td>August</td>\n",
       "      <td>Snowing + high winds</td>\n",
       "      <td>2.500000</td>\n",
       "      <td>100.0%</td>\n",
       "    </tr>\n",
       "    <tr>\n",
       "      <th>50</th>\n",
       "      <td>June</td>\n",
       "      <td>Fog or mist</td>\n",
       "      <td>1.774510</td>\n",
       "      <td>71.0%</td>\n",
       "    </tr>\n",
       "    <tr>\n",
       "      <th>95</th>\n",
       "      <td>September</td>\n",
       "      <td>Snowing no high winds</td>\n",
       "      <td>1.615385</td>\n",
       "      <td>64.6%</td>\n",
       "    </tr>\n",
       "    <tr>\n",
       "      <th>82</th>\n",
       "      <td>October</td>\n",
       "      <td>Fog or mist</td>\n",
       "      <td>1.615108</td>\n",
       "      <td>64.6%</td>\n",
       "    </tr>\n",
       "    <tr>\n",
       "      <th>42</th>\n",
       "      <td>July</td>\n",
       "      <td>Fog or mist</td>\n",
       "      <td>1.611111</td>\n",
       "      <td>64.4%</td>\n",
       "    </tr>\n",
       "  </tbody>\n",
       "</table>\n",
       "</div>"
      ],
      "text/plain": [
       "        Month     Weather_Conditions  Average_Casualties Percentage_of_Max\n",
       "14     August   Snowing + high winds            2.500000            100.0%\n",
       "50       June            Fog or mist            1.774510             71.0%\n",
       "95  September  Snowing no high winds            1.615385             64.6%\n",
       "82    October            Fog or mist            1.615108             64.6%\n",
       "42       July            Fog or mist            1.611111             64.4%"
      ]
     },
     "execution_count": 298,
     "metadata": {},
     "output_type": "execute_result"
    }
   ],
   "source": [
    "uk_accidents[\"Accident Date\"] = pd.to_datetime(uk_accidents[\"Accident Date\"])\n",
    "uk_accidents[\"Month\"] = uk_accidents[\"Accident Date\"].dt.month_name()\n",
    "\n",
    "weather_month_casualties = uk_accidents.groupby(\n",
    "    [\"Month\", \"Weather_Conditions\"]\n",
    ")[\"Number_of_Casualties\"].mean().reset_index(name=\"Average_Casualties\")\n",
    "\n",
    "max_value = weather_month_casualties[\"Average_Casualties\"].max()\n",
    "weather_month_casualties[\"Percentage_of_Max\"] = (weather_month_casualties[\"Average_Casualties\"] / max_value * 100).round(1).astype(str) + \"%\"\n",
    "\n",
    "top5_weather_month = weather_month_casualties.sort_values(by=\"Average_Casualties\", ascending=False).head(5)\n",
    "top5_weather_month"
   ]
  },
  {
   "cell_type": "markdown",
   "id": "b75521dd-40de-40cb-a96f-1782f3a3e0ae",
   "metadata": {},
   "source": [
    "<h1> INSIGHT 25: </h1>\n",
    "<p>Accidents in <strong>August with \"Snowing + high winds\"</strong> are the most severe, while fog or mist in June, July, and October, and snow in September reach 64–71% of the maximum severity. Adverse weather clearly increases accident severity.</p>"
   ]
  },
  {
   "cell_type": "markdown",
   "id": "c5a10b0d-7f91-4ce6-a092-dfbe99bac82c",
   "metadata": {},
   "source": [
    "<h1> DATA VISUALIZATION </h1>"
   ]
  },
  {
   "cell_type": "code",
   "execution_count": 299,
   "id": "60dd35a7-1b28-4e42-b207-64974079d001",
   "metadata": {},
   "outputs": [
    {
     "data": {
      "image/png": "[encoded data removed]",
      "text/plain": [
       "<Figure size 640x480 with 1 Axes>"
      ]
     },
     "metadata": {},
     "output_type": "display_data"
    }
   ],
   "source": [
    "# Data visualization is used to graphically represent data to make patterns, trends, and insights easier to understand and communicate.\n",
    "colors = [\"skyblue\", \"orange\", \"green\", \"red\", \"purple\"]\n",
    "\n",
    "top5_weather_month.plot(\n",
    "    x=\"Month\",\n",
    "    y=\"Average_Casualties\",\n",
    "    kind=\"bar\",\n",
    "    color=colors,\n",
    "    legend=False\n",
    ")\n",
    "\n",
    "plt.title(\"Top 5 Month-Weather Combinations by Average Casualties\")\n",
    "plt.xlabel(\"Month\")\n",
    "plt.ylabel(\"Average Number of Casualties\")\n",
    "plt.xticks(rotation=45)\n",
    "plt.tight_layout()\n",
    "plt.show()"
   ]
  },
  {
   "cell_type": "markdown",
   "id": "fe103020-bc43-4606-80b4-49be897339d1",
   "metadata": {},
   "source": [
    "<h1> INSIGHT 26: </h1>\n",
    "<p> Weather conditions play a major role, with snowing + high winds and fog being associated with the most casualties. </p>\n",
    "<h1> INSIGHT 27: </h1>\n",
    "<p> The visual contrast in the bar heights makes it immediately clear that August snowing accidents are the most severe, while the other months are significantly lower but still notable. </p>"
   ]
  },
  {
   "cell_type": "code",
   "execution_count": 300,
   "id": "8e4ca09c-1fa3-47b8-b1b1-d0c0146a02a8",
   "metadata": {},
   "outputs": [
    {
     "data": {
      "image/png": "[encoded data removed]",
      "text/plain": [
       "<Figure size 1200x600 with 1 Axes>"
      ]
     },
     "metadata": {},
     "output_type": "display_data"
    }
   ],
   "source": [
    "import matplotlib.pyplot as plt\n",
    "\n",
    "uk_accidents[\"Accident Date\"] = pd.to_datetime(uk_accidents[\"Accident Date\"])\n",
    "uk_accidents[\"Year\"] = uk_accidents[\"Accident Date\"].dt.year\n",
    "uk_accidents[\"Month_Num\"] = uk_accidents[\"Accident Date\"].dt.month\n",
    "\n",
    "uk_accidents[\"Accident_Severity\"] = uk_accidents[\"Accident_Severity\"].astype(\"category\").cat.codes + 1\n",
    "\n",
    "data_filtered = uk_accidents[uk_accidents[\"Year\"].between(2019, 2022)]\n",
    "\n",
    "monthly_severity = data_filtered.groupby([\"Year\", \"Month_Num\"])[\"Accident_Severity\"].mean().unstack(level=0)\n",
    "monthly_severity = monthly_severity.reindex(range(1,13), fill_value=0)\n",
    "\n",
    "month_labels = [\"Jan\", \"Feb\", \"Mar\", \"Apr\", \"May\", \"Jun\", \n",
    "                \"Jul\", \"Aug\", \"Sep\", \"Oct\", \"Nov\", \"Dec\"]\n",
    "\n",
    "ax = monthly_severity.plot(kind=\"line\", figsize=(12,6), marker='o')\n",
    "ax.set_title(\"Monthly Average Accident Severity (2019-2022)\")\n",
    "ax.set_xlabel(\"Month\")\n",
    "ax.set_ylabel(\"Average Accident Severity\")\n",
    "ax.set_xticks(range(1,13))\n",
    "ax.set_xticklabels(month_labels)\n",
    "ax.grid(True)\n",
    "plt.legend(title=\"Year\")\n",
    "plt.tight_layout()\n",
    "plt.show()"
   ]
  },
  {
   "cell_type": "markdown",
   "id": "61bca997-46ff-4217-97dd-d9302a6ad768",
   "metadata": {},
   "source": [
    "<h1>INSIGHT 28:</h1>\n",
    "<p>2019–2020: Average accident severity was lower in 2020 compared to 2019, likely due to reduced traffic during COVID-19 lockdowns; this shows that lower traffic volumes can significantly reduce the severity of road accidents.</p>\n",
    "\n",
    "<h1>INSIGHT 29:</h1>\n",
    "<p>2021–2022: Severity increased as traffic resumed, with winter months consistently showing higher accident severity; this shows that seasonal factors and higher traffic volumes contribute to more serious accidents.</p>\n"
   ]
  },
  {
   "cell_type": "code",
   "execution_count": 301,
   "id": "8cfe0f41-858d-4acb-b0ae-91c5ee44b367",
   "metadata": {},
   "outputs": [
    {
     "data": {
      "image/png": "[encoded data removed]",
      "text/plain": [
       "<Figure size 640x480 with 1 Axes>"
      ]
     },
     "metadata": {},
     "output_type": "display_data"
    }
   ],
   "source": [
    "severity_labels = {1: \"Slight\", 2: \"Serious\", 3: \"Fatal\"}\n",
    "\n",
    "for severity, group in uk_accidents.groupby(\"Accident_Severity\"):\n",
    "    plt.scatter(group[\"Number_of_Vehicles\"], group[\"Number_of_Casualties\"], \n",
    "                label=severity_labels.get(severity, str(severity)), alpha=0.5)\n",
    "\n",
    "plt.xlabel(\"Number of Vehicles\")\n",
    "plt.ylabel(\"Number of Casualties\")\n",
    "plt.title(\"Number of Casualties vs Number of Vehicles by Accident Severity\")\n",
    "plt.legend(title=\"Accident Severity\")\n",
    "plt.grid(True)\n",
    "plt.tight_layout()\n",
    "plt.show()"
   ]
  },
  {
   "cell_type": "markdown",
   "id": "5d57fab3-a450-4602-a76f-cbf06c8b61ec",
   "metadata": {},
   "source": [
    "<h1> INSIGHT 30: </h1>\n",
    "<p>Light accidents tend to have fewer casualties, while serious and fatal accidents involve more, which suggests that both accident severity and the number of vehicles are key indicators of risk and highlights the importance of safety measures in multi-vehicle collisions.\n",
    "</p>"
   ]
  }
 ],
 "metadata": {
  "kernelspec": {
   "display_name": "Python 3 (ipykernel)",
   "language": "python",
   "name": "python3"
  },
  "language_info": {
   "codemirror_mode": {
    "name": "ipython",
    "version": 3
   },
   "file_extension": ".py",
   "mimetype": "text/x-python",
   "name": "python",
   "nbconvert_exporter": "python",
   "pygments_lexer": "ipython3",
   "version": "3.11.5"
  }
 },
 "nbformat": 4,
 "nbformat_minor": 5
}
