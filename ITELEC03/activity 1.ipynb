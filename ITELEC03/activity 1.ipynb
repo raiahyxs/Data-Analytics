{
 "cells": [
  {
   "cell_type": "markdown",
   "id": "fb8a1fbe-2c29-4931-b39e-754193c33cc0",
   "metadata": {},
   "source": [
    "<h1> ACTIVITY 1 - PALMER PENGUINS DATA ANALYTICS PROJECT</h1>\n",
    "<hr>"
   ]
  },
  {
   "cell_type": "markdown",
   "id": "eceb47cd-3ac3-4593-97f4-68b08f21b840",
   "metadata": {},
   "source": [
    "<h2> Analyst: Rhealyn Vasquez</h2>"
   ]
  },
  {
   "cell_type": "code",
   "execution_count": 1,
   "id": "119af37e-375e-4b3e-a9f2-3a4a71a79e08",
   "metadata": {},
   "outputs": [
    {
     "data": {
      "text/html": [
       "<div>\n",
       "<style scoped>\n",
       "    .dataframe tbody tr th:only-of-type {\n",
       "        vertical-align: middle;\n",
       "    }\n",
       "\n",
       "    .dataframe tbody tr th {\n",
       "        vertical-align: top;\n",
       "    }\n",
       "\n",
       "    .dataframe thead th {\n",
       "        text-align: right;\n",
       "    }\n",
       "</style>\n",
       "<table border=\"1\" class=\"dataframe\">\n",
       "  <thead>\n",
       "    <tr style=\"text-align: right;\">\n",
       "      <th></th>\n",
       "      <th>species</th>\n",
       "      <th>island</th>\n",
       "      <th>bill_length_mm</th>\n",
       "      <th>bill_depth_mm</th>\n",
       "      <th>flipper_length_mm</th>\n",
       "      <th>body_mass_g</th>\n",
       "      <th>sex</th>\n",
       "      <th>year</th>\n",
       "    </tr>\n",
       "  </thead>\n",
       "  <tbody>\n",
       "    <tr>\n",
       "      <th>0</th>\n",
       "      <td>Adelie</td>\n",
       "      <td>Torgersen</td>\n",
       "      <td>39.1</td>\n",
       "      <td>18.7</td>\n",
       "      <td>181.0</td>\n",
       "      <td>3750.0</td>\n",
       "      <td>male</td>\n",
       "      <td>2007</td>\n",
       "    </tr>\n",
       "    <tr>\n",
       "      <th>1</th>\n",
       "      <td>Adelie</td>\n",
       "      <td>Torgersen</td>\n",
       "      <td>39.5</td>\n",
       "      <td>17.4</td>\n",
       "      <td>186.0</td>\n",
       "      <td>3800.0</td>\n",
       "      <td>female</td>\n",
       "      <td>2007</td>\n",
       "    </tr>\n",
       "    <tr>\n",
       "      <th>2</th>\n",
       "      <td>Adelie</td>\n",
       "      <td>Torgersen</td>\n",
       "      <td>40.3</td>\n",
       "      <td>18.0</td>\n",
       "      <td>195.0</td>\n",
       "      <td>3250.0</td>\n",
       "      <td>female</td>\n",
       "      <td>2007</td>\n",
       "    </tr>\n",
       "    <tr>\n",
       "      <th>3</th>\n",
       "      <td>Adelie</td>\n",
       "      <td>Torgersen</td>\n",
       "      <td>NaN</td>\n",
       "      <td>NaN</td>\n",
       "      <td>NaN</td>\n",
       "      <td>NaN</td>\n",
       "      <td>NaN</td>\n",
       "      <td>2007</td>\n",
       "    </tr>\n",
       "    <tr>\n",
       "      <th>4</th>\n",
       "      <td>Adelie</td>\n",
       "      <td>Torgersen</td>\n",
       "      <td>36.7</td>\n",
       "      <td>19.3</td>\n",
       "      <td>193.0</td>\n",
       "      <td>3450.0</td>\n",
       "      <td>female</td>\n",
       "      <td>2007</td>\n",
       "    </tr>\n",
       "  </tbody>\n",
       "</table>\n",
       "</div>"
      ],
      "text/plain": [
       "  species     island  bill_length_mm  bill_depth_mm  flipper_length_mm  \\\n",
       "0  Adelie  Torgersen            39.1           18.7              181.0   \n",
       "1  Adelie  Torgersen            39.5           17.4              186.0   \n",
       "2  Adelie  Torgersen            40.3           18.0              195.0   \n",
       "3  Adelie  Torgersen             NaN            NaN                NaN   \n",
       "4  Adelie  Torgersen            36.7           19.3              193.0   \n",
       "\n",
       "   body_mass_g     sex  year  \n",
       "0       3750.0    male  2007  \n",
       "1       3800.0  female  2007  \n",
       "2       3250.0  female  2007  \n",
       "3          NaN     NaN  2007  \n",
       "4       3450.0  female  2007  "
      ]
     },
     "execution_count": 1,
     "metadata": {},
     "output_type": "execute_result"
    }
   ],
   "source": [
    "import numpy as np\n",
    "import pandas as pd\n",
    "import warnings\n",
    "warnings.filterwarnings('ignore')\n",
    "\n",
    "df = pd.read_csv('datasets\\\\penguins.csv')\n",
    "\n",
    "df.head()"
   ]
  },
  {
   "cell_type": "markdown",
   "id": "0538a85c-e20e-42a4-a292-3d91aa231e1b",
   "metadata": {},
   "source": [
    "<h1> 1. How many rows have at least one missing value?</h1>"
   ]
  },
  {
   "cell_type": "code",
   "execution_count": 2,
   "id": "dff9111b-fb31-4c87-b635-15a777bbe6ea",
   "metadata": {},
   "outputs": [
    {
     "data": {
      "text/plain": [
       "11"
      ]
     },
     "execution_count": 2,
     "metadata": {},
     "output_type": "execute_result"
    }
   ],
   "source": [
    "missing_rows = df[df.isnull().any(axis=1)]\n",
    "missing_count = missing_rows.shape[0]\n",
    "missing_count"
   ]
  },
  {
   "cell_type": "markdown",
   "id": "f26ebd16-0baf-4342-96ff-126430e33f1c",
   "metadata": {},
   "source": [
    "<h3> Insight: </h3>\n",
    "<p>Checking missing values early helps you understand data quality.</p>"
   ]
  },
  {
   "cell_type": "markdown",
   "id": "4b1de059-3453-40f6-8994-913395a7c07c",
   "metadata": {},
   "source": [
    "<h1> 2. What is the most common species in the dataset? </h1>"
   ]
  },
  {
   "cell_type": "code",
   "execution_count": 3,
   "id": "bb393a92-dc3b-4bea-9e49-00d80b503cdd",
   "metadata": {},
   "outputs": [
    {
     "data": {
      "text/plain": [
       "'Adelie'"
      ]
     },
     "execution_count": 3,
     "metadata": {},
     "output_type": "execute_result"
    }
   ],
   "source": [
    "most_common_species = df['species'].mode()[0]\n",
    "most_common_species"
   ]
  },
  {
   "cell_type": "markdown",
   "id": "426f8cd2-ba13-441f-a7a6-d6a0afc6777a",
   "metadata": {},
   "source": [
    "<h3> Insight: </h3>\n",
    "<p>Shows which species was seen most often.</p>"
   ]
  },
  {
   "cell_type": "markdown",
   "id": "31146c2a-dac8-47c7-ac2e-fbe724d67e0a",
   "metadata": {},
   "source": [
    "<h1> 3. Which island has the highest average bill length? </h1>"
   ]
  },
  {
   "cell_type": "code",
   "execution_count": 4,
   "id": "300eabc4-b734-432e-9a10-885075ac53a5",
   "metadata": {},
   "outputs": [
    {
     "data": {
      "text/plain": [
       "'Biscoe'"
      ]
     },
     "execution_count": 4,
     "metadata": {},
     "output_type": "execute_result"
    }
   ],
   "source": [
    "island_max_bill = df.groupby('island')['bill_length_mm'].mean().idxmax()\n",
    "island_max_bill\n"
   ]
  },
  {
   "cell_type": "markdown",
   "id": "67c3d5e4-0d25-473d-b7e0-70d449577801",
   "metadata": {},
   "source": [
    "<h3> Insight: </h3>\n",
    "<p>Bill length differences often relate to feeding habits and prey availability on each island. </p>"
   ]
  },
  {
   "cell_type": "markdown",
   "id": "19fd91cc-0047-473d-be81-8892db833c74",
   "metadata": {},
   "source": [
    "<h1> 4. Which species has the largest variation in flipper length? </h1>"
   ]
  },
  {
   "cell_type": "code",
   "execution_count": 5,
   "id": "f9910fcb-7848-4e13-9485-b11d13e5bd59",
   "metadata": {},
   "outputs": [
    {
     "data": {
      "text/plain": [
       "'Chinstrap'"
      ]
     },
     "execution_count": 5,
     "metadata": {},
     "output_type": "execute_result"
    }
   ],
   "source": [
    "species_flipper_var = df.groupby('species')['flipper_length_mm'].std().idxmax()\n",
    "species_flipper_var"
   ]
  },
  {
   "cell_type": "markdown",
   "id": "a000a036-618e-41eb-8dfd-cab179f5485a",
   "metadata": {},
   "source": [
    "<h3> Insight: </h3>\n",
    "<p>Variation suggests diversity within the species possibly due to age, sex, or regional differences. </p>"
   ]
  },
  {
   "cell_type": "markdown",
   "id": "bbdf3dd1-c85a-457c-ac81-6dc3f40cda48",
   "metadata": {},
   "source": [
    "<h1> 5 .Which penguin has the longest bill length and what species is it? </h1>"
   ]
  },
  {
   "cell_type": "code",
   "execution_count": 6,
   "id": "234d7557-a98b-4d99-91ac-98497e5314d7",
   "metadata": {},
   "outputs": [
    {
     "data": {
      "text/plain": [
       "species           Gentoo\n",
       "bill_length_mm      59.6\n",
       "Name: 185, dtype: object"
      ]
     },
     "execution_count": 6,
     "metadata": {},
     "output_type": "execute_result"
    }
   ],
   "source": [
    "longest_bill_penguin = df.loc[df['bill_length_mm'].idxmax(), ['species', 'bill_length_mm']]\n",
    "longest_bill_penguin"
   ]
  },
  {
   "cell_type": "markdown",
   "id": "98fd042e-49bf-466b-9b31-159a0580cfb1",
   "metadata": {},
   "source": [
    "<h3>Insight:</h3>\n",
    "<p> Longer bills can help certain penguins catch different types of prey or reach into crevices </p>"
   ]
  },
  {
   "cell_type": "markdown",
   "id": "1593ab3a-f212-4557-b7b2-9f0252b0a4ab",
   "metadata": {},
   "source": [
    "<h1> 6. Which species has the smallest average bill depth? </h1>"
   ]
  },
  {
   "cell_type": "code",
   "execution_count": 7,
   "id": "f963f9d0-5512-4e73-abbc-6d68a8e88c6d",
   "metadata": {},
   "outputs": [
    {
     "data": {
      "text/plain": [
       "'Gentoo'"
      ]
     },
     "execution_count": 7,
     "metadata": {},
     "output_type": "execute_result"
    }
   ],
   "source": [
    "species_smallest_bill_depth = df.groupby('species')['bill_depth_mm'].mean().idxmin()\n",
    "species_smallest_bill_depth"
   ]
  },
  {
   "cell_type": "markdown",
   "id": "c22eca1e-de49-4c16-9e9c-6a99729ec679",
   "metadata": {},
   "source": [
    "<h3>Insight:</h3>\n",
    "<p>Bill depth influences feeding ability; smaller bills might indicate specialization for certain prey.</p>"
   ]
  },
  {
   "cell_type": "markdown",
   "id": "26a33c17-27ab-4140-a5a6-9f49759c66a0",
   "metadata": {},
   "source": [
    "<h1> 7. Are male penguins always heavier than females of the same species? </h1>"
   ]
  },
  {
   "cell_type": "code",
   "execution_count": 8,
   "id": "ee2169f6-cabf-486f-b238-577b8ea76901",
   "metadata": {},
   "outputs": [
    {
     "data": {
      "text/html": [
       "<div>\n",
       "<style scoped>\n",
       "    .dataframe tbody tr th:only-of-type {\n",
       "        vertical-align: middle;\n",
       "    }\n",
       "\n",
       "    .dataframe tbody tr th {\n",
       "        vertical-align: top;\n",
       "    }\n",
       "\n",
       "    .dataframe thead th {\n",
       "        text-align: right;\n",
       "    }\n",
       "</style>\n",
       "<table border=\"1\" class=\"dataframe\">\n",
       "  <thead>\n",
       "    <tr style=\"text-align: right;\">\n",
       "      <th>sex</th>\n",
       "      <th>female</th>\n",
       "      <th>male</th>\n",
       "    </tr>\n",
       "    <tr>\n",
       "      <th>species</th>\n",
       "      <th></th>\n",
       "      <th></th>\n",
       "    </tr>\n",
       "  </thead>\n",
       "  <tbody>\n",
       "    <tr>\n",
       "      <th>Adelie</th>\n",
       "      <td>3368.835616</td>\n",
       "      <td>4043.493151</td>\n",
       "    </tr>\n",
       "    <tr>\n",
       "      <th>Chinstrap</th>\n",
       "      <td>3527.205882</td>\n",
       "      <td>3938.970588</td>\n",
       "    </tr>\n",
       "    <tr>\n",
       "      <th>Gentoo</th>\n",
       "      <td>4679.741379</td>\n",
       "      <td>5484.836066</td>\n",
       "    </tr>\n",
       "  </tbody>\n",
       "</table>\n",
       "</div>"
      ],
      "text/plain": [
       "sex             female         male\n",
       "species                            \n",
       "Adelie     3368.835616  4043.493151\n",
       "Chinstrap  3527.205882  3938.970588\n",
       "Gentoo     4679.741379  5484.836066"
      ]
     },
     "execution_count": 8,
     "metadata": {},
     "output_type": "execute_result"
    }
   ],
   "source": [
    "sex_comparison = df.groupby(['species', 'sex'])['body_mass_g'].mean().unstack()\n",
    "sex_comparison"
   ]
  },
  {
   "cell_type": "markdown",
   "id": "9336b4e3-5642-40fb-9f96-6781b5304b82",
   "metadata": {},
   "source": [
    "<h3>Insight:</h3>\n",
    "<p>Males are usually heavier than females, but some females can weigh more than some males.</p>"
   ]
  },
  {
   "cell_type": "markdown",
   "id": "0b73fbea-1679-4d3f-8bd0-8fb0519d52cd",
   "metadata": {},
   "source": [
    "<h1> 8. Which year has the highest average penguin body mass? </h1>"
   ]
  },
  {
   "cell_type": "code",
   "execution_count": 9,
   "id": "1ba32246-c81e-448a-b5a4-f8aec0813b5d",
   "metadata": {},
   "outputs": [
    {
     "data": {
      "text/plain": [
       "np.int64(2008)"
      ]
     },
     "execution_count": 9,
     "metadata": {},
     "output_type": "execute_result"
    }
   ],
   "source": [
    "year_max_mass = df.groupby('year')['body_mass_g'].mean().idxmax()\n",
    "year_max_mass"
   ]
  },
  {
   "cell_type": "markdown",
   "id": "c86c740d-857f-484d-932d-67970d80bd81",
   "metadata": {},
   "source": [
    "<h3>Insight:</h3>\n",
    "<p>This could reflect environmental conditions like food supply during that year.</p>"
   ]
  },
  {
   "cell_type": "markdown",
   "id": "b9d999bb-2ed9-4f75-b475-5a8fdc44dd22",
   "metadata": {},
   "source": [
    "<h1> 9. Which numeric feature has the least variation (lowest standard deviation)? </h1>"
   ]
  },
  {
   "cell_type": "code",
   "execution_count": 10,
   "id": "b6fca676-8ea4-4f22-a0b2-4fbd36808a29",
   "metadata": {},
   "outputs": [
    {
     "data": {
      "text/plain": [
       "'year'"
      ]
     },
     "execution_count": 10,
     "metadata": {},
     "output_type": "execute_result"
    }
   ],
   "source": [
    "numeric_std_min = df.select_dtypes(include='number').std().idxmin()\n",
    "numeric_std_min"
   ]
  },
  {
   "cell_type": "markdown",
   "id": "9d458136-b540-4e8b-bc3a-10a8757a5282",
   "metadata": {},
   "source": [
    "<h3>Insight:</h3>\n",
    "<p>A low standard deviation means the values are very similar for most penguins.</p>"
   ]
  },
  {
   "cell_type": "markdown",
   "id": "0d4b0025-d769-47a2-9c88-367d8ab72edf",
   "metadata": {},
   "source": [
    "<h1> 10. Which island has the most balanced number of species? </h1>"
   ]
  },
  {
   "cell_type": "code",
   "execution_count": 11,
   "id": "d75b051b-4c27-4b51-b4b7-f657649f5710",
   "metadata": {},
   "outputs": [
    {
     "data": {
      "text/plain": [
       "'Biscoe'"
      ]
     },
     "execution_count": 11,
     "metadata": {},
     "output_type": "execute_result"
    }
   ],
   "source": [
    "species_counts = df.groupby(['island', 'species']).size().unstack(fill_value=0)\n",
    "balance_score = species_counts.min(axis=1)  \n",
    "balance_score.idxmax()"
   ]
  },
  {
   "cell_type": "markdown",
   "id": "34423cd9-54b1-47b1-a9c5-79bd1f1854af",
   "metadata": {},
   "source": [
    "<h3>Insight:</h3>\n",
    "<p>The island with the highest balance score has similar numbers of each species.</p>"
   ]
  },
  {
   "cell_type": "markdown",
   "id": "6bbe4379-ab39-4516-91df-dd7e9cc5b73d",
   "metadata": {},
   "source": [
    "<h1> 11. Among Gentoo penguins, which sex has the longer average flipper length? </h1>"
   ]
  },
  {
   "cell_type": "code",
   "execution_count": 12,
   "id": "5090805a-f8fe-4751-8331-00e6d402b97f",
   "metadata": {},
   "outputs": [
    {
     "data": {
      "text/plain": [
       "'male'"
      ]
     },
     "execution_count": 12,
     "metadata": {},
     "output_type": "execute_result"
    }
   ],
   "source": [
    "gentoo_flipper_avg = (df[df['species'] == 'Gentoo'].groupby('sex')['flipper_length_mm'].mean().idxmax())\n",
    "gentoo_flipper_avg"
   ]
  },
  {
   "cell_type": "markdown",
   "id": "4b550394-c847-448e-a621-f0e8cf5ccd30",
   "metadata": {},
   "source": [
    "<h3>Insight:</h3>\n",
    "<p>This shows whether male or female Gentoo penguins tend to have longer flippers.</p>"
   ]
  },
  {
   "cell_type": "markdown",
   "id": "7479dec8-f752-4ca7-8417-e4ff1f907c07",
   "metadata": {},
   "source": [
    "<h1> 12. Which species has the smallest difference in body mass?</h1>"
   ]
  },
  {
   "cell_type": "code",
   "execution_count": 13,
   "id": "b0abda7a-6454-463f-9c16-07dcfb539228",
   "metadata": {},
   "outputs": [
    {
     "data": {
      "text/plain": [
       "'Adelie'"
      ]
     },
     "execution_count": 13,
     "metadata": {},
     "output_type": "execute_result"
    }
   ],
   "source": [
    "mass_range = df.groupby('species')['body_mass_g'].apply(lambda x: x.max() - x.min())\n",
    "mass_range.idxmin()"
   ]
  },
  {
   "cell_type": "markdown",
   "id": "c46aca54-ded3-4215-91c7-c001b0bbb966",
   "metadata": {},
   "source": [
    "<h3>Insight:</h3>\n",
    "<p>Smaller difference means penguins of that species are closer in size.</p>"
   ]
  },
  {
   "cell_type": "markdown",
   "id": "86988e11-b1a8-4d2a-bfeb-3a3dbd611aff",
   "metadata": {},
   "source": [
    "<h1> 13. Which measurement has the most missing data? </h1>"
   ]
  },
  {
   "cell_type": "code",
   "execution_count": 14,
   "id": "0854b5cd-235e-4a69-a88b-f259b4cea5ee",
   "metadata": {},
   "outputs": [
    {
     "data": {
      "text/plain": [
       "'bill_length_mm'"
      ]
     },
     "execution_count": 14,
     "metadata": {},
     "output_type": "execute_result"
    }
   ],
   "source": [
    "most_missing_col = df[['bill_length_mm', 'bill_depth_mm', 'flipper_length_mm', 'body_mass_g']].isnull().sum().idxmax()\n",
    "most_missing_col"
   ]
  },
  {
   "cell_type": "markdown",
   "id": "a325183c-b1f6-4672-bd98-c53e76a33b75",
   "metadata": {},
   "source": [
    "<h3>Insight:</h3>\n",
    "<p>This tells which measurement needs the most data cleaning.</p>"
   ]
  },
  {
   "cell_type": "markdown",
   "id": "2fab1769-fc51-48f5-b4b2-e0c77d66e1d0",
   "metadata": {},
   "source": [
    "<h1> 14. Which species has the longest average flipper length? </h1>"
   ]
  },
  {
   "cell_type": "code",
   "execution_count": 15,
   "id": "a967fb06-c814-43ae-b0cc-86a7d6d626b7",
   "metadata": {},
   "outputs": [
    {
     "data": {
      "text/plain": [
       "'Gentoo'"
      ]
     },
     "execution_count": 15,
     "metadata": {},
     "output_type": "execute_result"
    }
   ],
   "source": [
    "longest_flipper_species = df.groupby('species')['flipper_length_mm'].mean().idxmax()\n",
    "longest_flipper_species"
   ]
  },
  {
   "cell_type": "markdown",
   "id": "cf49a90a-d754-49c6-a206-61a7cfb0c70e",
   "metadata": {},
   "source": [
    "<h3>Insight:</h3>\n",
    "<p>Longer flippers can help penguins swim faster or dive deeper.</p>"
   ]
  },
  {
   "cell_type": "markdown",
   "id": "906db64c-a857-4032-8c35-0fab3f5a0b94",
   "metadata": {},
   "source": [
    "<h1> 15. Which species-island combination has the fewest recorded individuals? </h1>"
   ]
  },
  {
   "cell_type": "code",
   "execution_count": 16,
   "id": "f7e17b52-9fc7-4c76-826c-6cef29b5808a",
   "metadata": {},
   "outputs": [
    {
     "data": {
      "text/plain": [
       "('Adelie', 'Biscoe')"
      ]
     },
     "execution_count": 16,
     "metadata": {},
     "output_type": "execute_result"
    }
   ],
   "source": [
    "fewest_combo = df.groupby(['species', 'island']).size().idxmin()\n",
    "fewest_combo"
   ]
  },
  {
   "cell_type": "markdown",
   "id": "882a063c-9e92-4a30-a572-885b815d297b",
   "metadata": {},
   "source": [
    "<h3>Insight:</h3>\n",
    "<p>Small counts might indicate rare occurrences or sampling bias.</p>"
   ]
  }
 ],
 "metadata": {
  "kernelspec": {
   "display_name": "Python 3 (ipykernel)",
   "language": "python",
   "name": "python3"
  },
  "language_info": {
   "codemirror_mode": {
    "name": "ipython",
    "version": 3
   },
   "file_extension": ".py",
   "mimetype": "text/x-python",
   "name": "python",
   "nbconvert_exporter": "python",
   "pygments_lexer": "ipython3",
   "version": "3.11.5"
  }
 },
 "nbformat": 4,
 "nbformat_minor": 5
}
